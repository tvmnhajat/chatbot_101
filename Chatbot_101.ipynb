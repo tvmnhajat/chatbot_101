{
  "cells": [
    {
      "cell_type": "markdown",
      "metadata": {
        "id": "view-in-github",
        "colab_type": "text"
      },
      "source": [
        "<a href=\"https://colab.research.google.com/github/nhajat/Chatbot_101/blob/main/Chatbot_101.ipynb\" target=\"_parent\"><img src=\"https://colab.research.google.com/assets/colab-badge.svg\" alt=\"Open In Colab\"/></a>"
      ]
    },
    {
      "cell_type": "markdown",
      "metadata": {
        "id": "FAL8r8NVybYx"
      },
      "source": [
        "#I. Chatbots 101"
      ]
    },
    {
      "cell_type": "markdown",
      "source": [
        "##1. EchoBot "
      ],
      "metadata": {
        "id": "nP2SpcOmt1Qc"
      }
    },
    {
      "cell_type": "code",
      "source": [
        "bot_template = \"BOT : {0}\"\n",
        "user_template = \"USER : {0}\"\n",
        "\n",
        "# Định nghĩa hàm để phản hồi tin nhắn của người dùng\n",
        "def respond(message):\n",
        "    bot_message = \"I can hear you! You said: \" + message\n",
        "    return bot_message\n",
        "\n",
        "# Định nghĩa một hàm gửi tin nhắn đến bot:\n",
        "def send_message(message):\n",
        "    print(user_template.format(message))\n",
        "    r = respond(message)\n",
        "    print(bot_template.format(r))"
      ],
      "metadata": {
        "id": "3q7BzXWruATq"
      },
      "execution_count": null,
      "outputs": []
    },
    {
      "cell_type": "code",
      "source": [
        "send_message(\"hello!\")"
      ],
      "metadata": {
        "colab": {
          "base_uri": "https://localhost:8080/"
        },
        "id": "iIEr5LouuRTR",
        "outputId": "4a35482b-6979-4c85-a6a6-000c54f50458"
      },
      "execution_count": null,
      "outputs": [
        {
          "output_type": "stream",
          "name": "stdout",
          "text": [
            "USER : hello!\n",
            "BOT : I can hear you! You said: hello!\n"
          ]
        }
      ]
    },
    {
      "cell_type": "markdown",
      "metadata": {
        "id": "opk0MvqqzT6D"
      },
      "source": [
        "##2. Tạo tính cách "
      ]
    },
    {
      "cell_type": "markdown",
      "source": [
        "### Cuộc trò chuyện nhỏ\n"
      ],
      "metadata": {
        "id": "aS3WJPyfvKxc"
      }
    },
    {
      "cell_type": "code",
      "source": [
        "responses ={\n",
        "\"what's your name?\": \"my name is EchoBot\",\n",
        "\"what's the weather today?\": \"it's sunny!\"\n",
        "}\n",
        "\n",
        "def respond(message):\n",
        "   if message in responses:\n",
        "      return responses [message]\n",
        "\n",
        "respond(\"what's your name?\")"
      ],
      "metadata": {
        "colab": {
          "base_uri": "https://localhost:8080/"
        },
        "id": "-dujSBHevweN",
        "outputId": "ba1c4b7c-6984-4c24-fd2f-1dc09074f28c"
      },
      "execution_count": null,
      "outputs": [
        {
          "output_type": "execute_result",
          "data": {
            "text/plain": [
              "'my name is EchoBot'"
            ],
            "application/vnd.google.colaboratory.intrinsic+json": {
              "type": "string"
            }
          },
          "metadata": {},
          "execution_count": 3
        }
      ]
    },
    {
      "cell_type": "markdown",
      "source": [
        "### Thêm các câu nói đa dạng\n"
      ],
      "metadata": {
        "id": "Shwu6Oa4v5In"
      }
    },
    {
      "cell_type": "code",
      "execution_count": null,
      "metadata": {
        "colab": {
          "base_uri": "https://localhost:8080/"
        },
        "id": "HUUPEXSUN1Gw",
        "outputId": "5986123b-682d-44d0-e515-d59483b87077"
      },
      "outputs": [
        {
          "output_type": "execute_result",
          "data": {
            "text/plain": [
              "\"it's cloudy today\""
            ],
            "application/vnd.google.colaboratory.intrinsic+json": {
              "type": "string"
            }
          },
          "metadata": {},
          "execution_count": 4
        }
      ],
      "source": [
        "responses ={ \n",
        "\"what's today's weather?\": \"it's {} today\"\n",
        "}\n",
        "\n",
        "weather_today = \"cloudy\"\n",
        "\n",
        "def respond(message):\n",
        "   if message in responses:\n",
        "      return responses[message].format(weather_today)\n",
        "\n",
        "respond(\"what's today's weather?\")"
      ]
    },
    {
      "cell_type": "markdown",
      "metadata": {
        "id": "ugX40BOZQxwB"
      },
      "source": [
        "###Chọn phản hồi"
      ]
    },
    {
      "cell_type": "code",
      "execution_count": null,
      "metadata": {
        "colab": {
          "base_uri": "https://localhost:8080/"
        },
        "id": "EVjwDR-oO9kU",
        "outputId": "c08b9285-1013-4f36-8eb6-3ef416017f3b"
      },
      "outputs": [
        {
          "output_type": "execute_result",
          "data": {
            "text/plain": [
              "'my name is EchoBot'"
            ],
            "application/vnd.google.colaboratory.intrinsic+json": {
              "type": "string"
            }
          },
          "metadata": {},
          "execution_count": 5
        }
      ],
      "source": [
        "responses ={\n",
        "   \"what's your name?\": [\n",
        "      \"my name is EchoBot\",\n",
        "      \"they call me EchoBot\",\n",
        "      \"the name's Bot, Echo Bot\"\n",
        "  ]\n",
        "}\n",
        "\n",
        "import random\n",
        "def respond(message):\n",
        "   if message in responses:\n",
        "      return random.choice(responses[message])\n",
        "\n",
        "respond(\"what's your name?\")"
      ]
    },
    {
      "cell_type": "markdown",
      "metadata": {
        "id": "lwzr6PrERE8f"
      },
      "source": [
        "###Đặt câu hỏi"
      ]
    },
    {
      "cell_type": "code",
      "execution_count": null,
      "metadata": {
        "colab": {
          "base_uri": "https://localhost:8080/"
        },
        "id": "RikFgTl0RG32",
        "outputId": "6a315f62-59b0-4f58-ff71-4dc165faced6"
      },
      "outputs": [
        {
          "output_type": "execute_result",
          "data": {
            "text/plain": [
              "'tell me more!'"
            ],
            "application/vnd.google.colaboratory.intrinsic+json": {
              "type": "string"
            }
          },
          "metadata": {},
          "execution_count": 6
        }
      ],
      "source": [
        "responses = [ \"tell me more!\", \"why do you think that?\" ]\n",
        "import random\n",
        "def respond(message):\n",
        "   return random.choice(responses)\n",
        "\n",
        "respond(\"I think you're really great\")"
      ]
    },
    {
      "cell_type": "markdown",
      "source": [
        "###Chitchat"
      ],
      "metadata": {
        "id": "1zHCoNtnwmfU"
      }
    },
    {
      "cell_type": "code",
      "source": [
        "# Định nghĩa biến\n",
        "name = \"Greg\"\n",
        "weather = \"cloudy\"\n",
        "\n",
        "# Tạo một từ điển để xác định trước các phản hồi\n",
        "responses = {\n",
        "  \"what's your name?\": \"my name is {0}\".format(name),\n",
        "  \"what's today's weather?\": \"the weather is {0}\".format(weather),\n",
        "  \"default\": \"default message\"\n",
        "}\n",
        "\n",
        "# Trả lại phản hồi phù hợp nếu có trong từ điển, nếu không có thì trả về tin nhắn mặc định được truy cập qua key \"default\"\n",
        "def respond(message):\n",
        "    # Kiểm tra xem tin nhắn có trong câu trả lời đã định nghĩa responses hay không\n",
        "    if message in responses:\n",
        "        # Trả lại tin nhắn phù hợp\n",
        "        bot_message = responses[message]\n",
        "    else:\n",
        "        # Trả lại thông báo \"default\"\n",
        "        bot_message = responses[\"default\"]\n",
        "    return bot_message"
      ],
      "metadata": {
        "id": "KHEEZOLawiJ3"
      },
      "execution_count": null,
      "outputs": []
    },
    {
      "cell_type": "markdown",
      "source": [
        "### Thêm sự đa dạng cho bot"
      ],
      "metadata": {
        "id": "2lmr-dS_xLJ3"
      }
    },
    {
      "cell_type": "code",
      "source": [
        "# Import the random module\n",
        "import random\n",
        "\n",
        "name = \"Greg\"\n",
        "weather = \"cloudy\"\n",
        "\n",
        "# Định nghĩa một từ điển chứa danh sách các câu trả lời cho mỗi tin nhắn\n",
        "responses = {\n",
        "  \"what's your name?\": [\n",
        "      \"my name is {0}\".format(name),\n",
        "      \"they call me {0}\".format(name),\n",
        "      \"I go by {0}\".format(name)\n",
        "   ],\n",
        "  \"what's today's weather?\": [\n",
        "      \"the weather is {0}\".format(weather),\n",
        "      \"it's {0} today\".format(weather)\n",
        "    ],\n",
        "  \"default\": [\"default message\"]\n",
        "}\n",
        "\n",
        "# Sử dụng random.choice() để chọn một phản hồi phù hợp\n",
        "def respond(message):\n",
        "    # Kiểm tra xem tin nhắn có trong câu trả lời đã định nghĩa responses hay không\n",
        "    if message in responses:\n",
        "        # Trả lại một phản hồi ngẫu nhiên\n",
        "        bot_message = random.choice(responses[message])\n",
        "    else:\n",
        "        # Trả lại một phản hồi \"default\" ngẫu nhiên\n",
        "        bot_message = random.choice(responses[\"default\"])\n",
        "    return bot_message"
      ],
      "metadata": {
        "id": "Q1K1hb7pxLol"
      },
      "execution_count": null,
      "outputs": []
    },
    {
      "cell_type": "markdown",
      "metadata": {
        "id": "Ayo3wYm7U0KT"
      },
      "source": [
        "###ELIZA I: Tạo bot đơn giản"
      ]
    },
    {
      "cell_type": "code",
      "execution_count": null,
      "metadata": {
        "colab": {
          "base_uri": "https://localhost:8080/"
        },
        "id": "m__2zP7_Uyxg",
        "outputId": "a99aeae8-66b2-46e3-93ed-ccad219cd55a"
      },
      "outputs": [
        {
          "output_type": "execute_result",
          "data": {
            "text/plain": [
              "'good, thanks'"
            ],
            "application/vnd.google.colaboratory.intrinsic+json": {
              "type": "string"
            }
          },
          "metadata": {},
          "execution_count": 9
        }
      ],
      "source": [
        "import random\n",
        "# Từ điển có sẵn\n",
        "response = {  \n",
        "    \"question\" : [\"yes\",\"good, thanks\"],\n",
        "    \"statement\" : [\"not oke\", \"not okee\"]\n",
        "}\n",
        "\n",
        "def respond(message):\n",
        "  if message.endswith(\"?\"):\n",
        "    return random.choice(response[\"question\"])\n",
        "  else:\n",
        "    return random.choice(response[\"statement\"])\n",
        "\n",
        "respond(\"are you oke?\")"
      ]
    },
    {
      "cell_type": "markdown",
      "metadata": {
        "id": "FuWEFc68atZY"
      },
      "source": [
        "##3. Xử lý văn bản với biểu thức chính quy\n"
      ]
    },
    {
      "cell_type": "markdown",
      "metadata": {
        "id": "VX-jCaNea6dU"
      },
      "source": [
        "**Biểu thức chính quy sử dụng cho ELIZA**\n",
        "\n",
        "Phần lớn sự kỳ diệu của hệ thống ELIZA phụ thuộc vào việc đưa ra ấn tượng rằng chatbot đã hiểu người dùng nói, mặc dù tính logic đằng sau cực kỳ đơn giản. \n",
        "\n",
        "Ví dụ, chúng ta hỏi ELIZA \"Do you remember when you ate strawberries in the garden?\", chatbot sẽ trả lời: \"How could I forget when I ate strawberries in the garden?\". Một phần làm cho ví dụ này trở nên hấp dẫn là chủ đề của nó. Chúng ta sẽ hỏi về ký ức liên kết với tâm trí và khả năng tự ý thức về bản thân. Ký ức về việc ăn dâu tây trong vườn gợi lên những cảm xúc mạnh mẽ. Nhưng nếu chúng ta chọn cách phản hồi được tạo, chúng ta thấy rằng nó thực sự khá đơn giản."
      ]
    },
    {
      "cell_type": "markdown",
      "metadata": {
        "id": "_HSY4bEZca2f"
      },
      "source": [
        "####**So sánh và tìm kiếm trùng khớp giữa các mẫu**"
      ]
    },
    {
      "cell_type": "code",
      "execution_count": null,
      "metadata": {
        "id": "xrjhP5TTa4ky"
      },
      "outputs": [],
      "source": [
        "import re\n",
        "# Dấu . là ký tự đặc biệt và so sánh với bất kỳ ký tự nào.\n",
        "# Dấu * sẽ so sánh với 0 hoặc nhiều lần xuất hiện của một mẫu\n",
        "# .* hiểu cơ bản là so sánh với bất kỳ chuỗi ký tự nào\n",
        "pattern = \"do you remember .*\"\n",
        "message = \"do you remember when you ate strawberries in the garden\"\n",
        "# Kiểm tra xem một tin nhắn có trùng khớp với một mẫu hay không bằng cách gọi re.search().\n",
        "match = re.search(pattern, message)\n",
        "\n",
        "# if match: print(\"matches\")\n",
        "# else: print(\"not matches\")"
      ]
    },
    {
      "cell_type": "markdown",
      "metadata": {
        "id": "C_LC5FaxfvEV"
      },
      "source": [
        "####**Trích xuất các cụm từ khóa**"
      ]
    },
    {
      "cell_type": "code",
      "execution_count": null,
      "metadata": {
        "id": "UlzxzFmaftwX"
      },
      "outputs": [],
      "source": [
        "import re\n",
        "# Việc thêm vào một dấu ngoặc đơn trong chuỗi ký tự mẫu sẽ xác định một tập hợp nhóm.\n",
        "pattern = \"if (.*)\"\n",
        "message = \"what would happen if bots took over the world\"\n",
        "match = re.search(pattern, message)"
      ]
    },
    {
      "cell_type": "code",
      "execution_count": null,
      "metadata": {
        "colab": {
          "base_uri": "https://localhost:8080/",
          "height": 36
        },
        "id": "OFkunYTygKZp",
        "outputId": "2e5223cf-c0b3-42fa-acd9-ea7c130d8ed2"
      },
      "outputs": [
        {
          "output_type": "execute_result",
          "data": {
            "text/plain": [
              "'if bots took over the world'"
            ],
            "application/vnd.google.colaboratory.intrinsic+json": {
              "type": "string"
            }
          },
          "metadata": {},
          "execution_count": 12
        }
      ],
      "source": [
        "match.group(0)"
      ]
    },
    {
      "cell_type": "code",
      "execution_count": null,
      "metadata": {
        "colab": {
          "base_uri": "https://localhost:8080/",
          "height": 36
        },
        "id": "1BdSqkw3gNFs",
        "outputId": "8ad6fc18-55e1-495d-e4b7-f6330f30fdcb"
      },
      "outputs": [
        {
          "output_type": "execute_result",
          "data": {
            "text/plain": [
              "'bots took over the world'"
            ],
            "application/vnd.google.colaboratory.intrinsic+json": {
              "type": "string"
            }
          },
          "metadata": {},
          "execution_count": 13
        }
      ],
      "source": [
        "match.group(1)"
      ]
    },
    {
      "cell_type": "markdown",
      "metadata": {
        "id": "_6uIXMiwglUU"
      },
      "source": [
        "####**Chuyển đổi ngữ pháp**"
      ]
    },
    {
      "cell_type": "markdown",
      "metadata": {
        "id": "VT8d0rAmgu0e"
      },
      "source": [
        "Để làm cho câu trả lời mạch lạc về mặt ngữ pháp, chúng ta sẽ muốn chuyển đổi các cụm từ được trích xuất từ ngôi thứ nhất sang ngôi thứ hai và ngược lại. Trong tiếng Anh, sử dụng các chủ ngữ rất dễ dàng, và chỉ cần hoán đổi \"I\" và \"you\", \"my\" và \"your\" trong hầu hết các trường hợp. Chúng ta có thể sử dụng một phương thức khác của mô-đun re, `re.sub()`, để thực hiện thao tác chuyển đổi này."
      ]
    },
    {
      "cell_type": "code",
      "execution_count": null,
      "metadata": {
        "colab": {
          "base_uri": "https://localhost:8080/",
          "height": 36
        },
        "id": "Gu4Ry6kggn27",
        "outputId": "11589a5e-cbea-4871-fa2b-f20444ea9444"
      },
      "outputs": [
        {
          "output_type": "execute_result",
          "data": {
            "text/plain": [
              "'you walk my dog'"
            ],
            "application/vnd.google.colaboratory.intrinsic+json": {
              "type": "string"
            }
          },
          "metadata": {},
          "execution_count": 29
        }
      ],
      "source": [
        "import re\n",
        "\n",
        "def swap_pronouns(phrase):\n",
        "   if 'I' in phrase:\n",
        "      return re.sub('I', 'you', phrase)\n",
        "   if 'my' in phrase:\n",
        "      return re.sub('my', 'your', phrase)\n",
        "   else:\n",
        "      return phrase\n",
        "\n",
        "swap_pronouns(\"I walk my dog\")"
      ]
    },
    {
      "cell_type": "markdown",
      "metadata": {
        "id": "wVGXPJCphlL6"
      },
      "source": [
        "####**Kết hợp**"
      ]
    },
    {
      "cell_type": "code",
      "source": [
        "pattern = 'do you remember (.*)'\n",
        "message = 'do you remember when you ate strawberries in the garden'"
      ],
      "metadata": {
        "id": "8ImBvYrWNNkg"
      },
      "execution_count": null,
      "outputs": []
    },
    {
      "cell_type": "code",
      "execution_count": null,
      "metadata": {
        "colab": {
          "base_uri": "https://localhost:8080/"
        },
        "id": "Z8x5CbJMhkfi",
        "outputId": "73f5f68d-849e-4bd2-ace2-e145147e066f"
      },
      "outputs": [
        {
          "output_type": "stream",
          "name": "stdout",
          "text": [
            "do you remember when you ate strawberries in the garden\n",
            "how could I forget when I ate strawberries in the garden\n"
          ]
        }
      ],
      "source": [
        "pattern = 'do you remember (.*)'\n",
        "# message = 'do you remember when you ate strawberries in the garden'\n",
        "\n",
        "message = input() \n",
        "\n",
        "def swap_pronouns(phrase):\n",
        "   if 'you' in phrase:\n",
        "      return re.sub('you', 'I', phrase)  \n",
        "   else:\n",
        "      return phrase\n",
        "\n",
        "phrase = swap_pronouns(phrase)\n",
        "responses = {\n",
        "\"do you remember (.*)\": 'how could I forget {}'\n",
        "}\n",
        "\n",
        "def choose_response(message):\n",
        "   if message in responses:\n",
        "      return responses[message]\n",
        "\n",
        "response = choose_response(pattern)\n",
        "print(response.format(phrase))"
      ]
    },
    {
      "cell_type": "code",
      "execution_count": null,
      "metadata": {
        "colab": {
          "base_uri": "https://localhost:8080/",
          "height": 36
        },
        "id": "s6nFLIWMhrmA",
        "outputId": "9c3a6b2a-bb83-4700-e28c-2c5561fb4d91"
      },
      "outputs": [
        {
          "output_type": "execute_result",
          "data": {
            "text/plain": [
              "'when you ate strawberries in the garden'"
            ],
            "application/vnd.google.colaboratory.intrinsic+json": {
              "type": "string"
            }
          },
          "metadata": {},
          "execution_count": 44
        }
      ],
      "source": [
        "phrase = re.search(pattern, message).group(1)\n",
        "phrase"
      ]
    },
    {
      "cell_type": "code",
      "execution_count": null,
      "metadata": {
        "colab": {
          "base_uri": "https://localhost:8080/",
          "height": 36
        },
        "id": "7-VXiSBfpYBv",
        "outputId": "2ca92c18-1f9d-475c-c5ab-e59f1536d4fa"
      },
      "outputs": [
        {
          "output_type": "execute_result",
          "data": {
            "text/plain": [
              "'when I ate strawberries in the garden'"
            ],
            "application/vnd.google.colaboratory.intrinsic+json": {
              "type": "string"
            }
          },
          "metadata": {},
          "execution_count": 45
        }
      ],
      "source": [
        "def swap_pronouns(phrase):\n",
        "   if 'you' in phrase:\n",
        "      return re.sub('you', 'I', phrase)\n",
        "   if 'your' in phrase:\n",
        "      return re.sub('your', 'my', phrase)\n",
        "   else:\n",
        "      return phrase\n",
        "\n",
        "phrase = swap_pronouns(phrase)\n",
        "phrase"
      ]
    },
    {
      "cell_type": "code",
      "execution_count": null,
      "metadata": {
        "colab": {
          "base_uri": "https://localhost:8080/"
        },
        "id": "irtVqxKxhuBO",
        "outputId": "c34e2296-62cc-4869-e9f6-ce08bc0f46a4"
      },
      "outputs": [
        {
          "output_type": "stream",
          "name": "stdout",
          "text": [
            "how could I forget {}\n"
          ]
        }
      ],
      "source": [
        "responses = {\n",
        "\"do you remember (.*)\": 'how could I forget {}'\n",
        "}\n",
        "\n",
        "def choose_response(message):\n",
        "   if message in responses:\n",
        "      return responses[message]\n",
        "\n",
        "response = choose_response(pattern)\n",
        "print(response)"
      ]
    },
    {
      "cell_type": "code",
      "execution_count": null,
      "metadata": {
        "colab": {
          "base_uri": "https://localhost:8080/",
          "height": 36
        },
        "id": "eCdyYQ_zolhZ",
        "outputId": "2b6f113e-7f19-41c7-8e3e-da5881138572"
      },
      "outputs": [
        {
          "output_type": "execute_result",
          "data": {
            "text/plain": [
              "'how could I forget when I ate strawberries in the garden'"
            ],
            "application/vnd.google.colaboratory.intrinsic+json": {
              "type": "string"
            }
          },
          "metadata": {},
          "execution_count": 47
        }
      ],
      "source": [
        "response.format(phrase)"
      ]
    },
    {
      "cell_type": "markdown",
      "metadata": {
        "id": "U00W5q-RyrCZ"
      },
      "source": [
        "#II. Understanding natural language"
      ]
    },
    {
      "cell_type": "markdown",
      "metadata": {
        "id": "LoKwXVzrwBQs"
      },
      "source": [
        "###Hiểu rõ về chủ ý và thực thể"
      ]
    },
    {
      "cell_type": "markdown",
      "metadata": {
        "id": "OH_NgI8AwFwd"
      },
      "source": [
        "NLU là một lĩnh vực con của xử lý ngôn ngữ tự nhiên, NLP, và thường quan tâm đến việc chuyển đổi văn bản thành dữ liệu có cấu trúc bên trong một ngôn ngữ cụ thể."
      ]
    },
    {
      "cell_type": "markdown",
      "metadata": {
        "id": "_RiUghdBwNSQ"
      },
      "source": [
        "**Ví dụ**\n",
        "\n",
        "Một chatbot đặt chỗ cho nhà hàng phải có thể hiểu được một câu nói như là:   \n",
        "\"I'm looking for a Mexican restaurant in the centre of town\" và truy vấn vào cơ sở dữ liệu hoặc API để tìm kết quả phù hợp. Để làm điều này, chúng ta cần xác định mục đích của lời nói và trích xuất một tập hợp các thực thể có liên quan."
      ]
    },
    {
      "cell_type": "markdown",
      "metadata": {
        "id": "10sVVhbuwz2n"
      },
      "source": [
        "**Chủ ý**\n",
        "\n",
        "Chủ ý là một từ ngữ mô tả về những gì một người đang cố gắng nói. Ví dụ như \"hello\", \"hi\" và \"yoyoyo\" là tất cả các cách mà mọi người có thể chào nhau. \n",
        "\n",
        "Câu ví dụ mà chúng ta vừa đề cập có thể được mô tả một cách hợp lý với chủ ý là tìm kiếm nhà hàng. Có nhiều cách khác nhau mà một người có thể diễn đạt chủ ý này, ví dụ như:\n",
        "\n",
        "*   \"I'm hungry\"\n",
        "*   \"Show me good pizza spots\"\n",
        "*   \"I want to take my boyfriend out for sushi\".\n",
        "\n",
        "Hiện tại, không có cách chính xác nào để gán chủ ý cho câu. Câu trả lời chính xác tùy thuộc vào cách sử dụng của người nói. Ví dụ, nếu bạn mở rộng khả năng của chatbot để nó thực sự có thể đặt bàn cho người dùng, câu cuối cùng \"I want to take my boyfriend out for sushi\" có thể được diễn đạt với chủ ý là yêu cầu đặt bàn thay vì chủ ý là tìm kiếm một nhà hàng."
      ]
    },
    {
      "cell_type": "markdown",
      "metadata": {
        "id": "drxNMBZUxK5X"
      },
      "source": [
        "**Thực thể**\n",
        "\n",
        "Phần thứ hai của NLU là trích xuất thực thể từ văn bản. \n",
        "\n",
        "Trong ví dụ tìm kiếm nhà hàng, điều này có nghĩa là xác định chính xác ngày 10 tháng 6 là một ngày, sushi là một loại món ăn và địa điểm là thành phố new york. Một vấn đề được nghiên cứu kỹ lưỡng trong NLP là nhận dạng đối tượng được đặt tên, NER. Đây gần như chính xác là vấn đề mà chúng ta đang diễn đạt ở đây, với sự khác biệt là NER thường nhắm đến tìm các thực thể phổ quát như tên của người, tổ chức, ngày tháng,... \n",
        "\n",
        "Trong trường hợp của chatbot, chúng ta thường muốn định nghĩa hẹp hơn về các thực thể cụ thể đối với cách hiểu của mình."
      ]
    },
    {
      "cell_type": "markdown",
      "metadata": {
        "id": "z1Rw4LfLxS9L"
      },
      "source": [
        "**Sử dụng biểu thức chính quy để hiểu chủ ý**\n",
        "\n",
        "Trong một vài bài tập tiếp theo, chúng ta sẽ xây dựng các biểu thức chính quy để nhận dạng các chủ ý và thực thể. Điều này đơn giản hơn nhiều so với các phương pháp học máy mà chúng ta sẽ sử dụng trong các phần sau của khóa học và có hiệu quả tính toán cao. Hạn chế chính là việc viết và gỡ lỗi cho các cụm từ thông dụng trở nên thực sự khó khăn khi chatbot có cấu trúc phức tạp hơn."
      ]
    },
    {
      "cell_type": "markdown",
      "metadata": {
        "id": "AIPz8MnzxaO9"
      },
      "source": [
        "**Sử dụng biểu thức chính quy**\n",
        "\n",
        "Chúng ta sẽ sử dụng biểu thức chính quy để tìm kiếm các từ khóa trong văn bản. Chúng ta có thể xây dựng các biểu thức tìm kiếm và so sánh trùng khớp với bất kỳ một trong số các từ khóa bằng cách sử dụng toán tử |, tương ứng với phép toán logic OR. Chúng ta có thể kiểm tra xem một chuỗi ký tự có trùng khớp với một mẫu hay không bằng cách kiểm tra xem đối tượng trùng khớp được trả về có phải là None hay không. Ví dụ, để tìm các từ khóa \"hello\", \"hey\", hoặc \"hi\", chúng ta có thể viết \"hello|hey|hi\"."
      ]
    },
    {
      "cell_type": "code",
      "execution_count": null,
      "metadata": {
        "id": "dgOEDwQ4xejZ"
      },
      "outputs": [],
      "source": [
        "re.search(r\"(hello|hey|hi)\", \"hey there!\") is not None"
      ]
    },
    {
      "cell_type": "markdown",
      "metadata": {
        "id": "Zj9HTvF1xlpE"
      },
      "source": [
        "Tuy nhiên, lưu ý rằng đây chỉ là một chuỗi ký tự, vì vậy, \"hi\" cũng sẽ trùng khớp với các từ \"which\", \"this\",..."
      ]
    },
    {
      "cell_type": "code",
      "execution_count": null,
      "metadata": {
        "id": "fERBtRAPxh4S"
      },
      "outputs": [],
      "source": [
        "re.search(r\"(hello|hey|hi)\", \"which one?\") is not None"
      ]
    },
    {
      "cell_type": "markdown",
      "metadata": {
        "id": "DV2avelQxq8C"
      },
      "source": [
        "Chúng ta có thể thêm biểu thức ngăn cách từ \"\\b\" ở đầu và cuối để cho biết rằng không được có bất kỳ ký tự chữ và số nào ở hai bên của từ khóa."
      ]
    },
    {
      "cell_type": "code",
      "execution_count": null,
      "metadata": {
        "id": "kRO7NBLTxt8e"
      },
      "outputs": [],
      "source": [
        "re.search(r\"\\b(hello|hey|hi)\\b\", \"hey there!\") is not None"
      ]
    },
    {
      "cell_type": "code",
      "execution_count": null,
      "metadata": {
        "id": "zOP4MAIfxyGQ"
      },
      "outputs": [],
      "source": [
        "re.search(r\"\\b(hello|hey|hi)\\b\", \"which one?\") is not None"
      ]
    },
    {
      "cell_type": "markdown",
      "metadata": {
        "id": "8o_Oy5y_x4ZP"
      },
      "source": [
        "**Lưu ý**\n",
        "\n",
        "Chúng ta đã đặt một ký tự 'r' trước khi bắt đầu chuỗi ký tự. Biểu thức này sẽ tạo ra chuỗi ký tự thô, có nghĩa là chúng ta có thể thêm các ký tự đặc biệt như dấu gạch chéo ngược mà không xung đột với hành vi mặc định của chuỗi ký tự trong Python."
      ]
    },
    {
      "cell_type": "markdown",
      "metadata": {
        "id": "23_nZpC1yHx6"
      },
      "source": [
        "**Sử dụng biểu thức chính quy để nhận dạng thực thể**"
      ]
    },
    {
      "cell_type": "markdown",
      "metadata": {
        "id": "MF4FJVkRyKk6"
      },
      "source": [
        "Nếu chúng ta sử dụng một mẫu nhiều lần, chúng ta có thể tạo một đối tượng mẫu bằng phương thức re.compile()."
      ]
    },
    {
      "cell_type": "code",
      "execution_count": null,
      "metadata": {
        "id": "fym6i9XYx6kI"
      },
      "outputs": [],
      "source": [
        "pattern = re.compile('[A-Z]{1}[a-z]*')"
      ]
    },
    {
      "cell_type": "code",
      "execution_count": null,
      "metadata": {
        "id": "wkGMfxvWyO8s"
      },
      "outputs": [],
      "source": [
        "message = \"\"\"\n",
        "Mary is a friend of mine,\n",
        "she studied at Oxford and\n",
        "now works at Google\"\"\"\n",
        "\n",
        "pattern.findall(message)"
      ]
    },
    {
      "cell_type": "markdown",
      "metadata": {
        "id": "xz78xh6AyR-e"
      },
      "source": [
        "Phương thức `findall()` của đối tượng mẫu sẽ trích xuất tất cả các chuỗi ký tự con trùng khớp một cách thuận tiện, để tìm tất cả các từ viết hoa trong một câu, chúng ta có thể thực thi phương thức `findall()` với đối số là một chuỗi ký tự."
      ]
    },
    {
      "cell_type": "markdown",
      "metadata": {
        "id": "pPAiCUR20dd3"
      },
      "source": [
        "###Phân loại \"ý định\" với regex I"
      ]
    },
    {
      "cell_type": "code",
      "execution_count": null,
      "metadata": {
        "id": "tIzbR9G9_PIJ"
      },
      "outputs": [],
      "source": [
        "keywords = {\n",
        " 'goodbye': ['bye', 'farewell'],\n",
        " 'greet': ['hello', 'hi', 'hey'],\n",
        " 'thankyou': ['thank', 'thx']\n",
        "}\n",
        "\n",
        "responses = {\n",
        " 'goodbye': ['bye', 'farewell'],\n",
        " 'greet': ['hello', 'hi', 'hey'],\n",
        " 'thankyou': ['thank', 'thx']\n",
        "}\n",
        "\n",
        "# Định nghĩa từ điển patterns\n",
        "patterns = {}\n",
        "\n",
        "# Lặp các cặp giá trị của từ điển keywords\n",
        "for intent, keys in keywords.items():\n",
        "    # Tạo và biến dịch biểu thức chính quy sau đó lưu kết quả vào  patterns\n",
        "    patterns[intent] = re.compile('|'.join(keys))\n",
        "    \n",
        "# In biến patterns\n",
        "print(patterns)"
      ]
    },
    {
      "cell_type": "markdown",
      "metadata": {
        "id": "HPLDFCpm_-N6"
      },
      "source": [
        "###Phân loại \"ý định\" với regex I"
      ]
    },
    {
      "cell_type": "code",
      "execution_count": null,
      "metadata": {
        "id": "bhgbt2C2_9My"
      },
      "outputs": [],
      "source": [
        "# Định nghĩa hàm match_intent để tìm \"ý định\" trong message\n",
        "def match_intent(message):\n",
        "    matched_intent = None\n",
        "    for intent, pattern in patterns.items():\n",
        "        # Kiểm tra nếu mẫu xuất hiện trong message\n",
        "        if pattern.search(message):\n",
        "            matched_intent = intent\n",
        "    return matched_intent\n",
        "\n",
        "# Định nghĩa hàm respond\n",
        "def respond(message):\n",
        "    # Gọi hàm match_intent function\n",
        "    intent = match_intent(message)\n",
        "    # Quay lại phản hồi mặc định\n",
        "    key = \"default\"\n",
        "    if intent in responses:\n",
        "        key = intent\n",
        "    return random.choice(responses[key])\n",
        "\n",
        "# Gửi tin nhắn\n",
        "send_message(\"hello!\")\n",
        "send_message(\"bye byeee\")\n",
        "send_message(\"thanks very much!\")\n"
      ]
    },
    {
      "cell_type": "markdown",
      "metadata": {
        "id": "y4xeaA-aBSlt"
      },
      "source": [
        "###Trích xuất thực thể bằng regex\n"
      ]
    },
    {
      "cell_type": "code",
      "execution_count": null,
      "metadata": {
        "id": "d2X1H0-hBVnN"
      },
      "outputs": [],
      "source": [
        "def find_name(message):\n",
        "  name = None\n",
        "  name_keyword = re.compile('name|call')\n",
        "  name_pattern = re.compile('[A-Z]{1}[a-z]*')\n",
        "  if name_keyword.search(message):\n",
        "    name_words = name_pattern.findall(message)\n",
        "    if len(name_words) > 0:\n",
        "      name = ' '.join(name_words)\n",
        "  return name\n",
        "\n",
        "def respond(message):\n",
        "  name = find_name(message)\n",
        "  if name is None:\n",
        "      return \"Hi there!\"\n",
        "  else:\n",
        "      return \"Hello, {0}!\".format(name)\n",
        "\n",
        "send_message(\"my name is David Copperfield\")\n",
        "send_message(\"call me Ishmael\")\n",
        "send_message(\"People call me Cassandra\")\n"
      ]
    },
    {
      "cell_type": "markdown",
      "metadata": {
        "id": "o04N_8JhDUKz"
      },
      "source": [
        "###Vecto từ"
      ]
    },
    {
      "cell_type": "markdown",
      "metadata": {
        "id": "D92fQgpcDWsb"
      },
      "source": [
        "**Vecto từ**\n",
        "\n",
        "Chúng ta sẽ sử dụng một cách tiếp cận được gọi là véc-tơ từ. Ý tưởng là gán cho mỗi từ một vectơ mô tả các từ có ý nghĩa. Những từ xuất hiện trong các ngữ cảnh tương tự thường sẽ có các véc-tơ từ giống nhau và từ hiếm khi xuất hiện trong cùng một ngữ cảnh sẽ có ít vectơ từ giống nhau hơn. Nếu chúng ta tạo các véc-tơ này bằng cách sử dụng văn bản chứa hàng tỷ từ, chúng ta sẽ tạo ra các véc-tơ nắm bắt được rất nhiều ý nghĩa hoàn chỉnh."
      ]
    },
    {
      "cell_type": "markdown",
      "metadata": {
        "id": "YQzGNcZDDl_x"
      },
      "source": [
        "**Các véc-tơ từ có mức độ tính toán lớn**\n",
        "\n",
        "Việc đào tạo các véc-tơ từ có thể tốn khá nhiều tài nguyên tính toán và rất nhiều dữ liệu. May mắn thay, có các véc-tơ từ chất lượng tốt có sẵn cho bất kỳ ai cũng có thể sử dụng. Đối với các bài tập này, chúng ta sẽ sử dụng các véc-tơ được đào tạo bằng **thuật toán GloVe**, là một thuật toán họ hàng với **word2vec**. \n",
        "\n",
        "Thư viện NLP trong Python, spaCy, làm cho những thứ này trở nên đặc biệt dễ dàng làm việc."
      ]
    },
    {
      "cell_type": "markdown",
      "metadata": {
        "id": "tqbWslsWENKW"
      },
      "source": [
        "**Các véc-tơ từ trong spaCy**\n",
        "\n",
        "Đầu tiên, chúng ta nhập spaCy và tạo một đối tượng spaCy bằng cách sử dụng `spacy.load()` với đối số `'en'`."
      ]
    },
    {
      "cell_type": "code",
      "execution_count": null,
      "metadata": {
        "id": "rwkrbVZADi0-"
      },
      "outputs": [],
      "source": [
        "import spacy\n",
        "nlp = spacy.load('en')"
      ]
    },
    {
      "cell_type": "code",
      "execution_count": null,
      "metadata": {
        "id": "i_9PeJcGEem8"
      },
      "outputs": [],
      "source": [
        "nlp.vocab.vectors_length"
      ]
    },
    {
      "cell_type": "markdown",
      "metadata": {
        "id": "DqP9LIvZFfxw"
      },
      "source": [
        "Để xem các véc-tơ này, trước tiên chúng ta truyền một chuỗi ký vào đối tượng nlp để tạo dữ liệu. Chúng ta gán tên này là doc. "
      ]
    },
    {
      "cell_type": "code",
      "execution_count": null,
      "metadata": {
        "id": "VWgDkguFE0P0"
      },
      "outputs": [],
      "source": [
        "doc = nlp('hello can you help me?')"
      ]
    },
    {
      "cell_type": "markdown",
      "metadata": {
        "id": "uoj2t88hFziU"
      },
      "source": [
        "Dữ liệu tạo ra một đối tượng `iterator` trên các `token` có trong chuỗi ký tự. `Token` là một từ, một phần tử hoặc một dấu chấm câu"
      ]
    },
    {
      "cell_type": "markdown",
      "metadata": {
        "id": "Cy0f6zHVFuPc"
      },
      "source": [
        "Chúng ta có thể duyệt qua các `token` và truy cập vào các véc-tơ từ của chúng bằng cách sử dụng thuộc tính `vector` của `token`."
      ]
    },
    {
      "cell_type": "code",
      "execution_count": null,
      "metadata": {
        "id": "73nj1tX-E29x"
      },
      "outputs": [],
      "source": [
        "for token in doc:\n",
        "   print(\"{}: {}\".format(token, token.vector[:3]))"
      ]
    },
    {
      "cell_type": "markdown",
      "metadata": {
        "id": "jf1-jZoBGOus"
      },
      "source": [
        "**Tính tương đồng**\n",
        "\n",
        "Một chi tiết kỹ thuật mà chúng ta cần giải quyết là trong không gian véc-tơ từ, đó là hướng của các véc-tơ là điều quan trọng nhất. Vì vậy, khoảng cách chúng ta muốn đo giữa các từ thực sự liên quan đến góc giữa các véc-tơ. Phép đo thường được sử dụng là tính tương đồng cosine, bằng 1 nếu các véc-tơ hướng theo cùng một hướng, 0 nếu chúng vuông góc và -1 nếu chúng có hướng ngược chiều nhau. \n",
        "\n",
        "spaCy có một phương thức thuận tiện để tính toán độ tương đồng này."
      ]
    },
    {
      "cell_type": "markdown",
      "metadata": {
        "id": "RLHnq_lNGT3i"
      },
      "source": [
        "###.similarity()"
      ]
    },
    {
      "cell_type": "code",
      "execution_count": null,
      "metadata": {
        "id": "vtUCu4sWGTI2"
      },
      "outputs": [],
      "source": [
        "import spacy\n",
        "nlp = spacy.load('en')\n",
        "doc = nlp(\"cat\")"
      ]
    },
    {
      "cell_type": "markdown",
      "metadata": {
        "id": "Q1wzHZQyGifX"
      },
      "source": [
        "Để tính tính tương đồng cosine, chúng ta sử dụng phương thức `similarity()`, nhận vào một tập dữ liệu khác làm đối số."
      ]
    },
    {
      "cell_type": "code",
      "execution_count": null,
      "metadata": {
        "id": "qyLJytUJFIyI"
      },
      "outputs": [],
      "source": [
        "doc.similarity(nlp(\"can\"))"
      ]
    },
    {
      "cell_type": "code",
      "execution_count": null,
      "metadata": {
        "id": "0uQW-0X7GwOP"
      },
      "outputs": [],
      "source": [
        "doc.similarity(nlp(\"dog\"))"
      ]
    },
    {
      "cell_type": "markdown",
      "metadata": {
        "id": "XGf4cM8BG7dc"
      },
      "source": [
        "Chúng ta thấy rằng \"cat\" và \"dog\" có độ tương đồng cao hơn nhiều so với \"can\" và \"cat\", mặc dù các chuỗi \"can\" và \"cat\" rõ ràng là giống nhau hơn về cách viết. Đó là bởi vì tính tương đồng đo lường mức độ ý nghĩa của các từ hơn là cách viết, bằng cách dựa vào các véc-tơ từ."
      ]
    },
    {
      "cell_type": "markdown",
      "metadata": {
        "id": "GdHsbgS3IUEa"
      },
      "source": [
        "###Vector từ trong spaCy"
      ]
    },
    {
      "cell_type": "code",
      "execution_count": null,
      "metadata": {
        "id": "ETxAL-awKX5Q"
      },
      "outputs": [],
      "source": [
        "import csv\n",
        "with open('./atis_intents.csv', 'r') as csvfile:\n",
        "    readCSV = csv.reader(csvfile, delimiter=',')\n",
        "    labels = []\n",
        "    sentences = []\n",
        "    for row in readCSV:\n",
        "        label = row[0]\n",
        "        sentence = row[1]\n",
        "        labels.append(label)\n",
        "        sentences.append(sentence)"
      ]
    },
    {
      "cell_type": "code",
      "execution_count": null,
      "metadata": {
        "id": "ktQTp6XRKgHl"
      },
      "outputs": [],
      "source": [
        "print(sentences)\n",
        "print(labels)"
      ]
    },
    {
      "cell_type": "code",
      "execution_count": null,
      "metadata": {
        "id": "JGI4RJfFIYAD"
      },
      "outputs": [],
      "source": [
        "import spacy\n",
        "import numpy as np\n",
        "\n",
        "nlp = spacy.load('en')\n",
        "\n",
        "# Tính độ dài câu\n",
        "n_sentences = len(sentences)\n",
        "\n",
        "print(n_sentences)\n",
        "\n",
        "# Tính chiều của đối tượng nlp\n",
        "embedding_dim = nlp.vocab.vectors_length\n",
        "\n",
        "print(embedding_dim)\n",
        "\n",
        "# Khởi tạo mảng X chứa toàn phẩn tử 0\n",
        "X = np.zeros((n_sentences, embedding_dim))\n",
        "\n",
        "# Lặp trên danh sách sentences đã cho\n",
        "for idx, sentence in enumerate(sentences):\n",
        "    # Chuyển từng sentence vào  nlp.(), lưu kết quả vào biến doc\n",
        "    doc = nlp(sentence)\n",
        "    # Lưu mỗi doc là một hàng của X\n",
        "    X[idx, :] = doc.vector\n",
        "    "
      ]
    },
    {
      "cell_type": "markdown",
      "metadata": {
        "id": "4M9K0CODLCX9"
      },
      "source": [
        "###Chủ ý và phân loại"
      ]
    },
    {
      "cell_type": "markdown",
      "metadata": {
        "id": "Z9SHIxDsLM6b"
      },
      "source": [
        "**Học tập có giám sát**\n",
        "\n",
        "Chúng ta sẽ cùng tìm hiểu về một số thuật ngữ học máy. \n",
        "\n",
        "Nhận biết chủ ý là một ví dụ về bài toán phân loại. \n",
        "Cho trước một đầu vào (một tin nhắn của người dùng), chúng ta muốn tạo ra một đối tượng, một lớp phân loại có thể dự đoán một nhãn (chủ ý của tin nhắn). \n",
        "\n",
        "Một lớp phân loại thường có một số tham số có thể điều chỉnh được, và chúng ta sẽ cố gắng điều chỉnh các tham số này sao cho lớp phân loại dự đoán chính xác các nhãn của bộ dữ liệu đào tạo. Quá trình này được gọi là fitting. Sau đó, chúng ta đánh giá chất lượng của mô hình bằng cách sử dụng tập dữ liệu thử nghiệm. Đây là những tin nhắn mới mà lớp phân loại chưa từng thấy trước đây và chúng ta xem liệu nó có thể dự đoán chính xác các nhãn của dữ liệu kiểm tra hay không. Một cách để đánh giá chất lượng của lớp phân loại là độ chính xác của nó. Độ chính xác là phần trăm các nhãn kiểm tra được dự đoán chính xác."
      ]
    },
    {
      "cell_type": "markdown",
      "metadata": {
        "id": "39REHoHcLZKS"
      },
      "source": [
        "**Bộ dữ liệu ATIS**\n",
        "\n",
        "Chúng ta sẽ sử dụng tập dữ liệu ATIS, chứa hàng nghìn tin nhắn từ một dịch vụ đặt vé máy bay, với các nhãn có chủ ý như `atis_flight`, ` atis_airfare`, cho biết chủ ý có phải là tìm kiếm chuyến bay, hỏi về giá cả,..."
      ]
    },
    {
      "cell_type": "markdown",
      "metadata": {
        "id": "9_uqHpruLgVO"
      },
      "source": [
        "**Bộ dữ liệu ATIS II**\n",
        "\n"
      ]
    },
    {
      "cell_type": "code",
      "execution_count": null,
      "metadata": {
        "id": "vcNRExVsQIzv"
      },
      "outputs": [],
      "source": [
        "\n",
        "import csv\n",
        "with open('./atis_intents.csv', 'r') as csvfile:\n",
        "    readCSV = csv.reader(csvfile, delimiter=',')\n",
        "    labels_train = []\n",
        "    sentences_train = []\n",
        "    for row in readCSV:\n",
        "        label = row[0]\n",
        "        sentence = row[1]\n",
        "        labels_train.append(label)\n",
        "        sentences_train.append(sentence)\n",
        "\n",
        "X_train_shape = (len(sentences_train), nlp.vocab.vectors_length)\n",
        "X_train = np.zeros(X_train_shape)\n",
        "# for sentence in sentences_train:\n",
        "#    X_train[i, :] = nlp(sentence).vector\n",
        "print(sentences_train[:2])\n",
        "print(labels_train[:2])"
      ]
    },
    {
      "cell_type": "markdown",
      "metadata": {
        "id": "T_jFWyyOPK5f"
      },
      "source": [
        "**Lớp phân loại các giá trị gần nhau nhất**\n",
        "\n",
        "Chúng ta sẽ sử dụng các véc-tơ từ để nhận ra chủ ý. Chúng ta sẽ cần một số dữ liệu đào tạo, ví dụ như những câu mà chúng ta đã gắn nhãn với chủ ý tương ứng của chúng. Điều đơn giản nhất mà chúng ta có thể làm để phân loại một câu mới là tìm kiếm ví dụ được gắn nhãn gần giống nhất và sử dụng chủ ý của nó làm dự đoán tốt nhất. Chúng ta gọi đây là nearest-neighbor classification (bài toán phân loại các giá trị gần nhau nhất)."
      ]
    },
    {
      "cell_type": "markdown",
      "metadata": {
        "id": "P6xMxqlSPQbP"
      },
      "source": [
        "**Phân loại các giá trị gần nhau nhất trong scikit-learn**\n",
        "\n",
        "scikit-learn cung cấp một hàm để tính độ tương đồng cosine, vì vậy chúng ta có thể nhập nó, sau đó tính điểm tương đồng với tất cả các câu trong tập huấn luyện bằng cách duyệt qua chúng."
      ]
    },
    {
      "cell_type": "code",
      "execution_count": null,
      "metadata": {
        "id": "gUfytwOUPWcf"
      },
      "outputs": [],
      "source": [
        "from sklearn.metrics.pairwise import cosine_similarity\n",
        "test_message = \"\"\"\n",
        "i would like to find a flight from charlotte\n",
        "to las vegas that makes a stop in st. louis\"\"\"\n",
        "test_x = nlp(test_message).vector"
      ]
    },
    {
      "cell_type": "markdown",
      "metadata": {
        "id": "ru3KHnPhPb0R"
      },
      "source": [
        "Chúng ta cũng có thể sử dụng hàm `similarity` của spacy để thực hiện công việc này, nhưng đối với các bài tập sau với scikit-learn, chúng ta sẽ cần làm việc với dữ liệu đào tạo ở định dạng mảng. \n",
        "\n",
        "Chúng ta tạo một danh sách có tên là `scores`, so sánh từng hàng của X với véc-tơ của tin nhắn trong tập kiểm tra."
      ]
    },
    {
      "cell_type": "code",
      "execution_count": null,
      "metadata": {
        "id": "7nkF9JLUPGp_"
      },
      "outputs": [],
      "source": [
        "from numpy.core.fromnumeric import reshape\n",
        "\n",
        "scores = [\n",
        "   cosine_similarity(X[i, :], test_x) \n",
        "   for i in range(len(sentences_train))\n",
        "]\n",
        "labels_train[np.argmax(scores)]"
      ]
    },
    {
      "cell_type": "markdown",
      "metadata": {
        "id": "urOb6TzJUtVQ"
      },
      "source": [
        "**SVM**\n",
        "\n",
        "Mô hình Nearest-neighbor classification hoạt động tốt cho nhiều lĩnh vực đơn giản, nhưng chúng ta thường muốn thứ gì đó có tính ứng dụng mạnh hơn một chút. SVM là một phương pháp học máy đã được thử nghiệm và kiểm tra và lớp phân loại SVM hoạt động thực sự tốt để phân loại các chủ ý. Chúng ta đã xác định mảng X_train và mảng y_train hiện chứa các nhãn số nguyên tương ứng với các chủ ý khác nhau trong tập dữ liệu ATIS. Đầu tiên, chúng ta nhập lớp phân loại bằng cách sử dụng from sklearn.svm import SVC."
      ]
    },
    {
      "cell_type": "code",
      "execution_count": null,
      "metadata": {
        "id": "2fWc0igRUwGD"
      },
      "outputs": [],
      "source": [
        "from sklearn.svm import SVC"
      ]
    },
    {
      "cell_type": "markdown",
      "metadata": {
        "id": "dryqc1_QVHIe"
      },
      "source": [
        "Sau đó chúng ta tạo một đối tượng lớp phân loại bằng cách gọi SVC và chúng ta gọi clf.fit, truyền vào tập dữ liệu huấn luyện X_train và nhãn y_train."
      ]
    },
    {
      "cell_type": "code",
      "execution_count": null,
      "metadata": {
        "id": "d_EPtWVxVE8h"
      },
      "outputs": [],
      "source": [
        "clf = SVC()\n",
        "clf.fit(X_train, y_train)"
      ]
    },
    {
      "cell_type": "markdown",
      "metadata": {
        "id": "WQIKMO1_VJ_K"
      },
      "source": [
        "Sau đó, chúng ta có thể dự đoán các nhãn của tập kiểm tra bằng cách sử dụng hàm dự đoán predict của lớp phân loại, nhận X_test làm đối số duy nhất của nó."
      ]
    },
    {
      "cell_type": "code",
      "execution_count": null,
      "metadata": {
        "id": "0Cbsty2zVLgh"
      },
      "outputs": [],
      "source": [
        "y_pred = clf.predict(X_test)"
      ]
    },
    {
      "cell_type": "markdown",
      "metadata": {
        "id": "WJUXeI2RWdB3"
      },
      "source": [
        "###**Trích xuất thực thể**\n"
      ]
    },
    {
      "cell_type": "markdown",
      "metadata": {
        "id": "TvV9jBkbWuUR"
      },
      "source": [
        "**Ngữ cảnh**\n",
        "\n",
        "Giả sử chúng ta chế tạo một loa nghe nhạc được điều khiển bằng giọng nói và giả sử rằng chúng ta sẽ phải đào tạo mô hình NLU với mọi bài hát, nghệ sĩ và album mà ai đó có thể muốn phát. Để tổng quát hóa, chúng ta có thể xem cách mà một từ được phát âm, có viết hoa hay không, và những từ nào xuất hiện trước và sau nó. Đây cũng là một vấn đề về nhận dạng mẫu và một vấn đề chúng ta có thể sử dụng học máy để giải quyết.\n"
      ]
    },
    {
      "cell_type": "markdown",
      "metadata": {
        "id": "Ae8I9vjoWz0d"
      },
      "source": [
        "**Nhận dạng đối tượng được đặt tên**"
      ]
    },
    {
      "cell_type": "markdown",
      "metadata": {
        "id": "pIRlHI4ZW2e-"
      },
      "source": [
        "Thông qua thư viện spaCy, chúng ta có quyền truy cập vào các mô hình hiện có được xây dựng bằng cách sử dụng lượng lớn dữ liệu đào tạo. Để xác định các thực thể chung chung như địa điểm, ngày tháng, tổ chức,... chúng ta có thể sử dụng spacy được tích hợp sẵn trong NER. \n",
        "\n",
        "Như trước đây, chúng ta import spacy, sau đó chúng ta sử dụng mô hình bằng phương thức load `nlp = spacy.load ('en')` và truyền vào một chuỗi ký tự."
      ]
    },
    {
      "cell_type": "code",
      "execution_count": null,
      "metadata": {
        "id": "_KYT6y1RW001"
      },
      "outputs": [],
      "source": [
        "import spacy\n",
        "nlp = spacy.load('en')\n",
        "doc = nlp(\"my friend Mary has worked at Google since 2009\")"
      ]
    },
    {
      "cell_type": "markdown",
      "metadata": {
        "id": "0Q9_NaXTW7YR"
      },
      "source": [
        "Các thực thể được đặt tên trong dữ liệu sau đó có thể được truy cập được thông qua thuộc tính ents của dữ liệu, thuộc tính này trả về một đối tượng iterator trên các thực thể."
      ]
    },
    {
      "cell_type": "code",
      "execution_count": null,
      "metadata": {
        "id": "13giOj73W6uc"
      },
      "outputs": [],
      "source": [
        "for ent in doc.ents:\n",
        "   print(ent.text, ent.label_)"
      ]
    },
    {
      "cell_type": "markdown",
      "metadata": {
        "id": "E4nFLrFv-NOJ"
      },
      "source": [
        "Kiểu thực thể được cung cấp bởi thuộc tính `ent.label_` và giá trị của nó có thể được truy cập thông qua thuộc tính `ent.text`."
      ]
    },
    {
      "cell_type": "markdown",
      "metadata": {
        "id": "204yfstw-R2d"
      },
      "source": [
        "**Vai trò**\n",
        "\n",
        "Điều mà chúng ta chưa thảo luận trước đây là các thực thể trong văn bản có thể có các vai trò khác nhau. \n",
        "\n",
        "Ví dụ: khi chúng ta nói \"please book me a flight from Tel Aviv to Bucharest\", cả 'Tel Aviv' và 'Bucharest' đều là các thực thể chỉ địa điểm, nhưng một thực thể là điểm xuất phát và thực thể còn lại là điểm đến.\n",
        "\n",
        "Một cách tiếp cận rất đơn giản là so sánh với các mẫu \"from X to Y\" và \"to Y from X\" và chỉ định vai trò theo cách đó."
      ]
    },
    {
      "cell_type": "code",
      "execution_count": null,
      "metadata": {
        "id": "p6NXJ2hy-MqX"
      },
      "outputs": [],
      "source": [
        "pattern_1 = re.compile('.* from (.*) to (.*)')\n",
        "pattern_2 = re.compile('.* to (.*) from (.*)')"
      ]
    },
    {
      "cell_type": "markdown",
      "metadata": {
        "id": "4VH0sT71-nt2"
      },
      "source": [
        "Ở đây, chúng ta đã xác định hai mẫu riêng biệt, vì vậy nếu mẫu 1 được tìm kiếm và trùng khớp, chúng ta biết điểm bắt đầu được đưa ra đầu tiên và điểm đến thứ hai, và ngược lại. Nhưng các vai trò không phải lúc nào cũng đơn giản như vậy, vì vậy chúng ta sẽ sử dụng một cách tiếp cận tổng quát hơn một chút."
      ]
    },
    {
      "cell_type": "markdown",
      "metadata": {
        "id": "dTPm_lnl-pB7"
      },
      "source": [
        "**Dependency parsing**\n",
        "\n",
        "Dependency parsing là một chủ đề rất lớn để đề cập trong khóa học này, nhưng chúng ta sẽ tìm hiểu về cách sử dụng cây phân tích cú pháp để chỉ định các vai trò. \n",
        "\n",
        "Cây phân tích cú pháp là một cấu trúc phân cấp chỉ định mối quan hệ cha-con giữa các từ trong một cụm từ và nó độc lập với thứ tự của từ.\n",
        "\n"
      ]
    },
    {
      "cell_type": "markdown",
      "metadata": {
        "id": "gdVe5Wvs-6Fa"
      },
      "source": [
        "![image.png](data:image/png;base64,iVBORw0KGgoAAAANSUhEUgAAAb4AAACJCAIAAADc58ofAAAgAElEQVR4nO2daYxk13Xf313eXnt1VXV39To9PftOUpZlxxQlWbYVxZZleY8dI3agwDAQ5EPyKYEN5EsAf0qcAFkMOLAgGbQoWSIpxRQjiKQoUZYpkiI5Mz1L711VXXu9evt2bz68meJoZtjsmumlqub+gMF0VddyX593//fec889B1BKOQaDwWD0AzzsBjAYDMbwwaSTwWAw+oZJJ4PBYPQNvuvxiZMLh9IOBoPBGFiWri7f9QybdTIYDEbfMOlkMBiMvmHSyWAwGH3DpJPBYDD6hkkng8Fg9A2TTgaDwegbJp0MBoPRN0w6GQwGo2+YdDIYDEbfMOlkMBiMvmHSyWAwGH3DpJPBYDD6hkkng8Fg9A2TTgaDwegbJp0MBoPRN0w6GQwGo2+YdDIYDEbf3J0lnsHYPwAAAIDez3f96r5voZTjOHrvw6iSK6vnyjgsmHQyDggIIS8IPMYYYwARhABCyHEchAhCAACE8Nb/HMdRSgihlFJCQkIooYSjt58jNAwD3w983wuC4LAvi/GIwqST0TfR5BFCCCBECEEIIYQIIUEQRFESRRFjjDDGGGOev/0/z3FcEAS+75MwJJTSSBojPeQovfWIEhJGXwEBBBC+9123f4oeRh8KAQjDMAj8wA+iD48eeZ7rup7r2CEhhBAS3voXweaqjIeHSSfj/twpWRwACEKIEAQAIoQQxjyWRUkQRVGSREkSRVEQhCAIHMdxHcf3PddxDN8L/MAPfN/z/CAIw5CjlN6xAv8JCbv9c+8p0Pv/jqV8tK4Hd7Qv0mWM+R6CKMYTCUmWBUEIw9BxHM91XcdxXdd1Hdd1wzAkYaSkNCQhvUPH6e0WMhg7w6STcR8ghKIkqYqiqKoai4miBADoTdkIIb7vea5nWVan0/Y9z/N83/cIIXd+yCFo0E96TAEAGGNBEHjhFoqiJlMphHA0JiCEOI7zA98yTNM0LdOwbZs5ARi7gUnnI00kHwhjjBBESFVVVY3JqiLwgu/7nuf6nq939ZbfDMMw8P0wDIMwDMPwjmkax3EPNVnjeb44Ne15XrerJRLJMAy0Tic7ltO0jizLqhqrbm/btrWrz7qnEYQQz/MBMG/tUAEAAEAQYYwQxgghhBDPC4IgJJPJsVxOEARCiG1ZpmlaluV5LglJEPhhGN41MDAecZh0PkLc6TTsiUg6k8lks+lsFkHY1bROu13e2rJM871dmdsquU+twpjPj4+Xt7ZSqXT0hKKqgiAUi1Oe68iqKojCbqXzHiil9wqq/5Ovub1Fdcu1KgpCIplKZzLzCwsY426322o0Ws2G67qEUo7ezYM1jDHsMOl8VIAQSrKcSCRUNcYLfCQXhBDLNCvl0s0b1wPfvzPipycK+64OgIv8la7rcoTU6rVEMikIQrerqWoMY3z/qKW9IxoeokklAMD3PMMwKuVS5ExVFUVRY+OTkzwvUEIIJWEY2rata5ppmmx1/8jCpHNkiRbiECJFVWKxuKKqhITRTrRt245jO47je94BzCt3JgxDQkJd75qGyQGOEKLrOqUcCQNJkhu1mu04+92GHcaJbhDoul6rQYyQJEmSLAu8IPBCfnwcY+y5nmHopmn6vh8GAVPSRwcmnaPDXQHn8Xi8OD1TmBi3LbtaqZS2Nj3PC4Ig8lQeblPvJAzC5Zs3O+12T3eI57VbTYSQHwSu44RheIjNu+XiDMPA9x3H4TqdO6OjksnUxGQxlcno3W5lc7NWr/Vcomw5P9qAu6x74uTCYTWF8TBACAVBiCcSsizLiiJJsud5WqvV6rTDIBhk91ykRPeGW0bDwKC1NuJWjNRtEEKxeDydzqixmO/7lmm6nqt3u7ZlHa7uM/aKpavLdz3DZp1DTBR8gzEfLcl5nkcYkZDoXX1rc9N1XRKGA6iVd0Epva++DHKz73IHR9H4WqeDMY7F44lEMplMxtRYGIamaZiG4fu+7/uDbwvG7mHSOXzcWpUDIIri1NT0xNSUqeu1arXdbvXcl4fdxkeOaKMpOhTQbDQQQpIkyaqay+UXFo+ZhrG2sqzrevRiZqARgEnnkIExVlRVlKR8viBKUrvZfOOH/+D5Pr0dr8665aETzaMty7Jtu9NqIYzT6fT8wlEIYaNe62qa7Tju/u99MfYVJp1DAIAQQSiIoiRJsVgsFotDjFqNZqvZjM7wMLkcNHpjWBiGQRBUt7cb9Xo8kcjl84lkyjJN3dBt03Q9r+eJPuwmM/qDSecQEMWHF2dmOq1Ws9HYWF+zLIv1t2Ghl+Wk3Wq1Wy1RFOOJRCqdPrp4TNe7G6urhmEwUw4dbId9QAEAYJ4XBaE4NZ2fmOi0Wlubm5ZlhkEQhoTSAYouYvTFrcNLCAmCUCiMTxSLlmmura5aphGFjh12Axn34d4ddiadg0WvX6mKksmO5ccLQRCuLd/sdDphGLK5yYiBEJJkeWZ2NjuWazYajUZd73ajXAHM1gMFk85BByGUGRubmpoWJbHZaNSrVV3XBzMek7EnRIOlKEmZTDZfKGCer1Yq25Wy67qH3TTGe7C4zgElShUsStL8kQU1plYr2+1W07SsMAhYwp7RJtqOty2r4ridTjuRSI5PThYmJtZXVzvtFlvCDyxMOg+Z3qQjny8cWTzabrbeffttdgrlUYNSGoaBoeuWadbrtamp6ZNnzjRqtY31NduygiBga45Bgy3YD5NoL2h6eiabyxl6t1wqmYZJyBAcAWLsH9HJTkEUC4XxsXzese211RXTMNj64xBhC/ZBAQAQHTkvTk0DAEqbm81G3fd91j0YlNJonb65sa5pncL4xPGTp7Yr5Waj4bkuW44MCEw6D4FokT41PTN7ZH75+o1yudTLlclgREQC2mo2tU4nmUqdPX9hsjh1+Z23LcsaqMRXjyxswX7QYIzTmczckYUwDFduXDcMo5dnl8G4l16Ou5m5uXQmu10uVSoVNtYeMGzBfphEuYfHJyYz2Wy72Sxtbbmuw0STsTPRFjwhZHVlxTCM8fEJNRYvbW1alhX4/ge/n7E/MOk8OCRZPn32HKV0+cb1dqvFZg2M3UMpDXy/Uip1Wu2Zudkz587fuH6tUauxu+iwYNJ5EGCMc/n87Px8p91eXVlhqy3GA+O6zsryst7VF48dj6mx7UrlgWveMR4GJp37DsZ8YXy8OD1dKZVLW5vsjB3jYSCEEM+rbldc1zl24qQoiRvr67ZlsZvqgIGH3YARBwCwsHj0yOLi6vLN0tYmi21m7AlhGLZbrbfe+JEgiKfPnsOYzYEOmqHZYUcIIYxRBIQQIgBv1Yfh3it4wBESRpAwDIIwCi8/rDbzPL+wuJjJjr391pu2Ze0msWZUM+PWVUYXClFUNT16QRQsT0lIKA17DOF5zVsGhdGFIgAAuN+VEhKSMAzCkNy6UFZy8j0AAJIkLxxbjMcTb73xI8e2D+tuv1WjCWOMMEIQIgR3MGjUS4MgunmHYjIxHOk/otMUtywRCQnGoigpiiJKkiiKgijwgoggBBBCCDiOI4RSQkJCwiBwHMdzXdd1LNNyXSfKQxMEYRAGt+ptH4jK8Dw/MzuXzeWWrlzWu917749eRTAOAJ7nMUII85jHiqwosixIkiCKgiAgjCBEAAAIAaX01pWGoed5nuu6rus6jmWZnudFxWyDILh9lYOSAvlWOigIoxiDaAgUJUlV1Ch/syAKGPO3R4vbBo3GhiBwXdeLLtO2bMuKulwQhkEQsNz40YG0U6fPIIxvXlvSDeMAoj57+b0ghDzGUT8VBEFR1KiHipIYGTTqoQCAOw3qeZ7rOK7rOLZt23YQhEFU5DoIKKUkDAdwHjAE0gkgVGR5fGIymU4LAm8apm1ZjuuEQeD7fhiSMPCjOQillFDKRe2/XZswioBDEGKej8q9CrwgK4qqqhwA7Vaztr2t6/p+2wYAcOrMWVmWr129Yprmfb8uCvDMF8bjiXjgB6au247j+350G4XBLYUgJKTRtPr2lcJohoZRNKjcunF5QRCEWDwuSqLruLVqtdmoOwNQxQEAIMlyoTCeGRsTBN4yLdMwfN/z/ai3hGHg92Yf9zcoQgihyKAIYUEQZEWJxeMcx2mddrVS6Xa7A9jZDgwAAEJ4bn4+nc1efudtyzT3+xtlRcnnC9lcDmPsua6h657nvmfQMIiGt/sYlOMgQrdWVRjzPI8xz/O8JMtqLIYx0jparbrdbrUJGaxDU4MrnTzPY55PJpP5wrgky3q329U013Vcx/F8P7hfNUFRFBHGjm1H3SYWj1umGYbhnbXIAQAQIVEQeEGUZTkWiyXT6TAIqtvb3a7m2PZ+OB8xzy8eOxZPJK+++85dCcABAIIoioKQyxfS2WwYBF1N6+pd33Vdz7uVqJHjuNtvid7bc0r0Lu2uh7ckhudFUeR5PhaLx+JxRVW7WqdSLnuud/ABpBhjQRQVRRmfnJRlxdR1Q9ct24qmkME9VSXuvFLM8xzHhUEAAJAkyXHcqCNFv0UYC0L0VxTiiUQimQIcV6tut1ot13V9zzvIyxwcJEmamZtLJJLvvP3jPS98FN1gkUEL4xOxeNzQddMwTNOIVj/RWue+BgUA8DzPcZznedGH+J4XHSft9VCB5wVREgQ+kUjGk0kIYbNer9drvud5g1GmcOCkM1rH8YKQG8tNTk/xgrixuloul3Yu2BI5BHP5Asao3W5zlPq+v7B4bG1l2Xz/IfdWx0Mony9Mzc6KkrS5ttao16L6MHulLAih4tTU1Mzsm6+/3osaie48hLEkilMzs9lczuh211ZXu1pnh2V1VCg4SggviKJtWZIsRy+Oii++n0xEd6SiKFMzMxPFqU6rtbG+ZprmAeTQjdZxPOZTmfTs3BwviKWNja2tzfsOfr3WSpJMKQkJEQSBECLLMs/zrWYT87wgCKZh3NfFGRkUQjg2NjYzf0QUxUqpVKmUfd+PHKP7d5mDCeb5M2fPAQAuv/vOXhVGjXxKvCDE4vG5+SNqLLa1vl4qbbmOs0MPFUWRA4CEhBd4CKEkirwoRoVCeZ7fIZg/+rpUOj2/cFQUxdr2dqVSdhwnWsUfooYOlnQCAMby+fHxCYyxoeuNRsMw9MiRx+1YcBVCmB0bSyZThBBZUXzPq1a3p2dnN9bWupr2gV/aS8OezmQTySTP81ubG/Va7eE7GwBgsjhVmJi4ef2aaRi9DxRFcXpmNp5IBEHQbrXarabneeGORdIhhLl8IR6P84KgdTqxeKxSLh87cdI0dISwpnV4zK+vre6g+D33YiqdSaVTaizuOs766oppmvt0CwIAMtns7Nw8pdQw9Faz2e12I4Pu8I28IJw5e07vdiP/LM/zhqHH4vFWsxkEQSwWr9WqO8wlbztSkSxLmexYPJHgeb5Rq21ubgzCbOUgifyeRxcXeV64vnT14d01EMJ4IjEzO8cLgt7VOu12p9P5wA0DAMCx4yccx8EYE0IUVW01G4lEstNpu46jxuKNem2HuWSvh4qimM2OpdJpjuO0Tqe0tekf3umpQTmIiTHmBaFYnEplMu1ms9VqGYbeb6C47/uiKBJCul3Nc73Q83ezTqG3N6Y139d1XY3F8vnCxGQxncmUSyXLNB/YPBjjeCI5Oz+/fONGtC8ULaJVRZ2dn6eUVre3O522Yzu79OMghGzbVlSVkFDraLd2hEwzmUqbhplOp3d+e68yeL1W7bRbiVQqny8sLB6rb2+32m3f9/ZwXhYZNPJ/2ZZZ3d7W9d0aFAKAMLYsKxaPObZNCCKEBH4AAHBdl+f5nfc9egYNAt80TUVRsmO5sXw+lkhsbW7Ytv3oLOGjE0cb6+uLx44XxifK5dIDX3uU9S6Xy2WyY67rbFfKnU5nlwaNNnhN08hks4FzayHvui7HAd/3Pd/beYXXM6jvebZltZqNZCqdy+dT6fTq8k3LsoIwHIQEKActndGQEovFTpw+7Tru5XfefrCICse2RVHSNI2QkMd8EARat5sdy5VLW7v8hMhCXU3ralq0G37x8SeuXblc3a5S+iBLA0mSLj7+2JV33qnXqpEjUhCE2fn5icni9aWl6nalX6kiJMzlC51WK/Lneq7b1ToQIp7nJyYn11dXdtlIQojruvVqtVmvJ5Opk2fOFH3/yjtvW5a9J+XhIoOeOnvOMs1rV69Yfc5qKceRMEymkrVqNZPJmqbpOk4ymdK7XYxx5GTY1edQGoahruuGYZS2NotT0+cvPba+slwulYYlAubhoZRapnXzxvXzFy8Zht5sNB7gQyCEsqKcu3DR87xrVy6/3z7nzuQL45VSKZlM2pbl2LaiqIbeRQhxlO5+g6Fn0O1KebJYPP/YYxura9GQcOgGPegFezwen5qZlSRpa3ND07TggTJU3t59jTZJQKR0ECKOow82k4rWtvFEcmZ21vf90uaGccdyezftEQRhZnYOYbR840bkmCuMj49PTBq6XtraiqZ4fRkbAKCqKoSwVzeYEIIQghAlkglN0x4ghqO3FJqYmBjLFxq16sPLiiTLs7Nz8URic2Oj1WyE/bcKQlSYGG81m9G+UNQehBClNDM2ZnT1BzhoGBlUUdXpmVlBENZWVzvtRyhpAIRwYrI4OTV15d13ooDiXb4RQCgIwsTEZGZsrFqp1GrVBygTHznidE2L9oU4jiOERL01l88bum4YRr9XFG1viJI0WSxKklyplA/4/P6h+TojpYvF4zNzc4Hvr6+tHWL47g4oqloojCuqWqtud9rtXQ6PEMJ8oZAdy62uLLuOAxGanCxmstlatVrd3g7DB9zEvzPaf2+BEGXHsrl8IQj8jfV1z3UfQIUBAKIkzc3PAwBLmxvd+8Wu7v7T3m8H6WEuP2rh1NS0rCjb25V2s/mITD8joZmZnZMV5drS1V0u26Ng25nZWUpprVrTOu0H3jvdP4NizE9MTmSyY/VarVbdPrDjefdK5wEdxAQAJJOp85cea9Ub15eWBvbIrWWa62ur5a2t6dm5fGEcIbS794Hi9IzW6diWBRGanz+SSCaXrl4pl7aC4MEzfexfpDchYb1Wu3njuuu4p8+eU1S1308AAMTj8UuPP6F1tOtLVzVNe5imvt97H/LyKaWObS/fvLGxvlYsTuUL49EkaOShlPq+XyptKYqS+iCfeI9EMnXxsce7Wndlebndaj5MzMn+GdT3vc2NjeWbNyaKxeLU9CEadN9nnVG87lhubHp27ub167reHfAkg9GqVpbl46dON2q1anXbse0dXi+I4szMrCTLN29cBxyYnpkBEGysrXveoNdCiFa1uXw+kx0rb211u90w3NUxR57nU+l0cWp6bWU58mwM5kDYAyEkSdLC4jGt06luV1zXHfAG7wkY47FcLpcvrK4smz8ZX3zvK9PZ7ORksbS50el0hsKgsiwfObpomebm5obvfcDW08Nz0LPOSIbGcmO5fGF1+WZX6wy4bnK3dxssy7ryzjvxZGJ8fILn+Ttj0e9CVWPTc3Mba6sIwiNHj3KA21hbt+0hKGl5e/+91mo1Z+bmFFX5wDE8MmgymSyMT2ysr+m6PhQJTSKD3rh2TVGVyeIU3tGgI0MYhtE2USaT2eFlCKF4Ijk1NV0ul9q7dlIdLmEYGoaxfPOGKEmzs3OCIBy8QfddOuPx+MzcfKVcajWbg68mPQghjmOv3rypxmITk5M7rNzzhfzG6moQhlMzM57nrq2uOs5Os9RBIwiCerVa3a4sHj+hqurOt+Atg84fqZRLnXZ7iAxKKXUce21lVRSEfL4A4S5dMUMMpTQIgu3tSmFiknsfswIAEsnU8ZMnNjfWW43GEBmU4zjLNJdv3hBEcbI4tWvf2p6xv9KpqOq5S5dWbt7otB/c5XxYUEpt297cWC9Oz8iKcq9tIIRjuZwgiOVSKZfLQ4g21zeGMY1xGIb1Wq1aqcweOYIx3kE9BUE8fe78xtrqkBrUdZ3NzY2JyUk11rd7dxihlHZaLdu25ubmo9OQdwIhFEVx4ejR1eWVVvOhnJuHAqXUc921leV4IpHOZg/Y77lfXwYAEEVxbv7I1vpGu9Ua0lxhhBDLNNdWlo+dOKkoyl2/RQjl8nnbsiRJGsvnq9sVx7GH7v7jbvsoWq1m4PuFiYn3G8AFUZyZm61Xq5qmDdf0pAchxLbt0tbmiZOn1FjsUVi2B0Gwtb4+MzcniuJdv8I8PzU902612u3W4OTZ6gtCiGEY5dLW/JGFKJjvwL56v74JYzw1PeP73ubG+jCqSY8wDGvVqt7VZueP3KUpEEJBEIMgOHfxYmlzQ+t0DquRe4LrONvl8uzcfDyeuPe3AIDJyaKqxjbW1wbfYb0DhJBatdqo18+eP3+vmowelFLTsrqalkim7nweAJBMpdLZbLW6PewHrlrN5tbGxonTZ0RJOrAv3RfpjM7SJtPpeq02FF7nHYhi0culEsdxqXS6p54IIUWNAQAUVW23Ws1h8xPdSzSAVyuV6dnZKF9q71fR7lA6k9mulAckk80DE02xK+Wy67jJVOpRCFeihJRLpVQ63dvwvBUgOTFZKZcGM8K6Lwgh9VrVc91cLndgK4l9uW8ghOl0xrYsXdeH3Socx1FKDV1v1Gv5QgHdrmSAMS5OTdmWJQjCjWvXhl03I4IgiPzumWz2zlswimGyLLO6vT0CBuU4znHstdXVRDLJC8Jht2XfIYToepfjuHgi0Us3lcvnAQClzc0hdabdSTS/KW1txuIJUZIORj33RToVVZ2dn9/a3AiH3yo9DMNIplLybcMIojg5NSUrimkYnjc6cYKU0vLW1sLiIr5jV0FWlHMXL9Wqo1O6llJqmUY8kcxks4fdln2HEBLliEskktExMIzxkaNHy+XSyBiUEKJpWhgGY7ncwawk9uU7crm8Y9umYQy1l/MuXNfVOlouX4gME48nPNfFPN/taoMfQtwXmtYJglBV39tFSaXShq5b5k5h1UOH7/uG3k2ldnvYZqgJw9CxbVmROY4DAKTSacuyDF0/7HbtGZRS3/NMw0ynM8M664wO/29tboxQL+M4jgt8f2NtNT8+HjmMkqlUo1EPg6CrdQ+7aXuMY9vlra14PNbzi8UTiavvvjsCK7s7oZSWtraUg92WPUQMQxcEMUqtkslm11dX9jyZ/KGjaR019gGxyXvFHt80EMJUOuO5rt7VOW6ktJNSalmW67qZ7BiEMJVOI4j0btf3h3t38l4IIaZpxOIJSZYBAKl0BmOs66NW/yc64e46zsRk8VEoxmsYBsI4Kh8gCKJlDmgeiYfBcRy9q+fyhQMw6F5LJ0LpdLqraSM2Q4mglLabzVw+L8syQiiRSnUeIrvMwEIp9TxPkmVJkgAAqVQqCPa9MsehQAjptNvTszMHfxbl4Al83/e8WCymxuIcx4WHWmd7nyBh2GzUx3c8/rdX7P2sM5FM6ob+wJnWBhxN62TGxmLxeBiGmWTK0EfKn9uDhKEkSZIkAwATyeSQxkt/IJRSQ+9OFibQIzDrpJRappnJjkWHO0bSoISQdqs1lssdgEH3WDoRRBChwB9N3eQ4Lir+FwV4Gra5y1RDQwchxLFtQRCiItqOPWpOsR6e79uOc+8hxdGDUuo4TiqdFkTRtq1BqFGx50TH9n3fl/Y/Nn7PpBMAEIvFMtlsMhaXZVlWlJE85RYSYltWKp3GPK+1OyM5QmCMo2M2+UIhlU5jjD3PPexG7T0AAF4QZFkOOVoojMdisRFetgMAZFmWJGmyWEwkE2EQjmT35AUhFotRSsfHJ5L7HLS7N9PaqB7sn/7pfzp58pQkSZ12+wtf/OtvPP/s6Hk8SRh6rptM5Sml+1da8nBRFOU3f+O3f+Uzn41M+fVnv7a+tnrYjdp7IITnz53/oz/8/LHjx33fX11Z+Xf//t8aO+a1HFKiAjD//Hd//9P/7FckSXrzzTd++MMfbFfKh1hgcp84eeLkv/qjzx87foLjuEa99h//9D+srizvk0H3ZtYZZW9++eXvJBOJ4mRR1/Uf/OC10bsFOY4jlIZhKIkSAMBzR3AuxnGc53lv/fhNnuczmUwqnTYMPQhG4azUXVBKb9y4Xq/XJsYnMunM0rWr9o45rYca3/evXr3i2HYmkzFN4/LVK96Qn1u/Lxsb6+vra7lcLpPOXLu2pGn7mFZizxbsYRh+7/vfe/HFFxqN+he/9IVWszGS+yeUkChXAiF0VJONO45z48b1777ycqvVev75ZzfLpdELwOI4jhDS7XaffvpvNjY33n33nZdf/s4I74YRQt58641vfesF0zQ3NzdLW5ujcXT4LnRdf+YrX15bW71+fekb33ze2M+D4Hu2D0Up1bval5/5242NjbfeemPYs368H0EQbG1ttjttSshonNC/L4ZhPP30l6q16te+/tWoHPZht2hfoJQuryz/+Z//ZwTh0tLSSA72PUzTfP75r09PT7/8yksjdtKvByGkXCn/xV/8l1wud+XKlX31SOxxbSKe5yVJchxn9NwojxS9ssMPUEt2uIAQIowpIaPnl78XjHE8nrBtyxm5c0Q9IISiJHGUe4Aa1Dtwb22iPY5+8n2fieYIEGVmG8k13V0QQsgoev3uSxAE7XbrsFuxvxBCDmaR9Eic3mUwGIy9hUkng8Fg9A2TTgaDwegbJp0MBoPRN0w6GQwGo2+YdDIYDEbfjH6urQcGQjQxORmLxWzL0g3DcWwIgG2/V2kdYzw+MenYVqPR4G7HQo7AiZSofM1Qh3NKkjRZnEIItVvNVquVHRuL0pHtPg48SsuQzmRazcZdUZCRoSVJMk1zH9q+B0T5jCeLU12t02w2hzdkNSqjlMmOpVKpTrulaV2EICHUdZ1DD+nfS+mEEAHAEUJGIBcgAABh9NRHn+p2NYRwqbS1vb3NAa5SLke/pZTygnDp4sV6vdFutymlCOPz586vrK502sOd/xjz/Pz8kWaz0Wm3KaU9GR0WqwIAzp+/uLi46HleEATPPf/s+XMXNK3ztq77vk8pBQ+Qye8AAA0hSURBVAACwPWuqDdUEEIghNHPHMdlx8aeePyJl15+yff9yKC9UhwY45mZ2aWlq4P5N4EQnj595syZsy+9/JKmadFwfteIGD2MXj+w9oUQFsYnfu6fPOn7Xjwef+ml73Ac53pedbsSNZ5SjpAQANCzae+9AIA7rXavuaO/yZ2v5zhu91OfPZNOCGEspsbUWLPV9H1/2LMBQoji8fjkRPHKlcsLC0d5nu902pTSaLohyXJU001VY5ZlT0wWm41GIhH/2FOfAODbV69eMQzjsK/gwUmlUj/1oQ8vLV256lzxfT+VSrmuq+v6sEyoAQAXL1z8yt8943ve8eMnIQAxVeU4rlAYr9WqnuepqpJMpTvtluM4sixzHCfJsqEbjmPLshyLxUzThBDyGCXiiUwmgzFqt1oAgEQyCSHUu3oQ+Ftbm4P51wAACIJ49uz5anW71WzIsiKKoq4bqqrEY/FWux2SEGMMAYiuVJQkwHGdTmcACwEgjM+ePdfutF/7/qszM7Oqqq6vrwVhiDEfi6mCIHa7mmmamOdjsThC0HNdPwgoIbFYjOM4TdMQQrKsyLKs613TNCFEvMCn0xmt03ZdVxRFhJDvBxzgVFUlhOy+wsXeSCdCaCyX/9yv/brnefVa9YUXXxj2U8+UkpMnTqYzmfn5I1Gdk+PHT1BKO5r2qV/8VGW7UixOXb1yGWP+Iz/9kYnxCVVVl64tTU9Pnzt3oVqtDrV0jhfGjy0egwDU6vVPfPznA99XFOXtd378xhtv7O3htn2CUrq6uvKJj//88vLNWm2bEBKLxy9cvHTu7PmrVy9/7/uv/vIvf0aWZFmW//oL/+e3fvN3TMvKjeXefOuN1177/ic/+YuSJGGEVVX91osvzB85kkwmfd//+xe+yXHcr37mcxjjl1956cqVd5966mPPPvv1w77W+5NMJaenp/O5fKVSfuLxD4mi+OxzX/vZn33SdZ3JyeIzX/ny2dNnJotTAs/H44larZrPF/7x9R++9tr3Bu2AJgnDtdWVJ3/uo93TZ7SO1mg1zp27oJuG1m5//vN/vLW1mYgn/tdf/o8zp86cOXO23qjnxnLfffWVWCz2+GNPCILwpb/54vj4+Kd+6dPLKzcz6czLL78EIPjYUx8vV8o8L/zgB9+fnZ378E/99De++dzFC5eSyWQYht/6f99aW13ZzZFI9Gd/9md3Pv5v//2/PsAVYp7P5ws8xq7rFIvFGzdvWIPqBtollNJSqXRk/sgr332pkC+YpkEpJwj8Rz78kdd/9Pp3vvPt2dlZAKEsyUtLV5/7xnPHjh0zDEOR5W+9+MLG+tqgjd594Xmuoiivv/7DdDr9xBMf+qu/+svK9vYf/+s/eemlbw9a17ovAIBavcZx3OlTZy5devzm8s3pqembN248/41nP/GJT16+/G46k3Vcd/Ho4vUb148tHvvyM09blnnkyEK1Vi0Wi8899/VWq3Xq1Olr15cmxif+7ut/p+tdRVEggJjHsVhMlqXl5eX5ufmla0uHfa33x3Gc4uTUWz9+c2V1ZXZ27rUffP/EydPr62vf/e4rGOPFxUUOcJcvv3v12tLs7NyLL75wdenKP/3Up99480eDZl9KqWGamtZZWDh64cLFRCIRhmHgeyEh01NTX/nqMxMTExihubn5V1595crldwuFcdt2MumMZVvpdLrZakZ1Yp57/rnNzfWPf+wTc3Pzr37vu6+++t2J8fGx7JisyJ1OZ2Vl+Vc/89m3fvwGgkhRlPWN9fCeieef/Mm/ueuZvdlhxwgvzB/hOE7XdQQRHMUE1BFBEMTjcUmSYmos8pg4jsNRGqV69H1f5IVhL68YLcxFUSKEiKIkSpIiybqhD4sDF/P8L/zCL1VrtRde/Pt6vZZJp4MgMC3LdT0ShulMVpFlrdPhOA5CGIahYRiGaQaB73muLCuKqiZSKYgQx3G6oYeBH6W2XDx2zPc9x7YRHKZk8qZpOK7rWJaiKKIopJLJMAgIoYahu67bajU9z7NsC8JB7LOY53/mIz+bz+Vfevk7//APP5iZmY2eJ4TYjkOCoNvVIEKY50VBECVZlmQIwcWLl2zL8jwPIYwRVhVFluV4PGHbtuf7iqJIkiRIkut5vudbpul6ruO69XqjVC6Vy6VdZn3bm04ehMF2vfbUk09RQnRD97xRyABCKbVty7Zt0zBc1yWE+D73wrf+/nd/5/dOnTylqrHKdqXZahqmQQgxdL3b1f7x9R9+6lOf/urXvnLzxvXDbv6D43lepVJ58smPfuObz7/55o/+xe/9QRCG//sv/+ewJMcNg+Ddd9/5vd/9fdd1a/Xqxsb6zPRMt6sFge/7vqnrmUx2fm5e13XXcTzfC8PQMk1d1zudjtbp/Ms/+EPbtikhnh90u5plWb7vI4RKpa2PPvkxQRAuX3k3CPxggHOjEEK0bkfX9TAMTcPQ9e5bb//4k5/45NkzZwEAX/zSFy5cuOT5gW1bHU3zAz/wg3q97g6efSmhV5eufuZXfvXipcdSqdTTT/9NJpNxXde27VaraVqmZVqdTvvq1cuf/ezn2q2WKEpL15bW1lcvXLiEEPI8F0I4P3/kt37jtzmOe+Yrfwsh/Nyv/fqF8xdb7dbrr//j7MwMj/lmo/HSd7790SefMk3jma8+E+4usfdeJp2LdrKGZW7yYExNz2TS6XKl/Mmf/8Vr166+/faP73KLIISivdrDauGeAABACBFCCCEY4yiR0mE3qj8AxyHM37cy631v1Gjj9fTpM/VGPZPJXjh/8Utf+sJdb4z+JkPqjYlsOoyBSgAAzPP++yg7APDY8eNBEPie99hjj1+7fu3GjeskDKN4idNnzx09svDtb7/Y7XZ7huN5/t6pJYQIAPB+hRr3N+ncsOvFbnBdZ25ubnHxWLvTvnZt6V5BGTqJuS+RVkb31gBuvO4GynFBcP/Vz31v1FsBSdmxo0cXIYSvvfbqva8ZauNG1SIPuxUPAqU0eP99G0oJBOD0qVMY87VabXNjPQyCyMSUUl3rlEolx3HuvIfvuyQnpD/j7nGq45GH53lVVWPxRFfrjHCW+EeWRCIRi8U939O7XXdEa0+NHqIoxuJxURC7Xe3O4JZouioKgm3bDzns3TvrZNLZN3cGEh9uSxh7DjPukLKD4XpnHB6Gfc8S/yjAOtUIw4w7pOxguIEuJsxgMBiPFEw6GQwGo2/2YMEOAEhmQWEKNyqh55LJOd42Sb0cONYeuBgGCgi4s5N4ox1CjhuLoY5FOI5rWCQcucgCWeVmFgVDI9WtIJ1DJOS0VhgGo2NQBLkxBQaE8gi0bVKIQy/g6iY5OoYxpJsdYriUjMi1cgAAQeKK85jjuNJqMDaOHIvqndD3RsqghTgUEQgp7dh0IoFsn3RsOp2CGIGNdqjZe2zQvZl15oqoOI8u/IwoKfDIKT6ZRRCN2nwWcBxG4JdOygsZOJVGH57Fl6bxwhgS0SAew3hIMA+OnuMzBSTK8ORjwsIZzAscBCPSzTiOw5BbGEOnxvHFKRwTwIdm+YtTGALuYhEdyaLp1EjdvxBQCOnUAs5PIUHkjl/gF8/zojxS9y2G3EIW/dQsfmyKT8ng48f4D83wKRn89JxwJIMWMnt/wnFvbhDXopsrgSAB36P1crC9ETjGsEYO70xF84/mMATADWg+NlId7E5cm3bqpFUNCaE8DyRlBK/TC0hKBkkJ+IRTeZCPQQCA5tCNDpFHa/c0JJxjgeZ22K4RQgAAQFEBHC2TEsrZHuE4Lq2AgHBewOXjEAHg+HSzHXAct+cHTff+70dCjoTc6K1hI9yAihhwHBcQzvSoxI/U0H0fKPV9ynEcN1p5CQjlvJCqAois2btdVRHkY3C1RUZmtX4vvk+j/JaH3ZA9xgspx3ESDwjhCKUIgOhhLo7K+t67X/Yo/QcPJmawqRNKhj1R5wcQEK7rUBlzbkCv1/ysMmr3X4Qog1QOZgqIENDcDvkRHSHcgIvWDVWD8AhQSqtd8uI1r2nRURr7I19ndhyl85DjOEsfwRUhoVxIgXv7tFTXvXWBTZP836teWdv7DYm9CYmXVS6WRJZBXZuIMnRt8j5H4IYbAEBG5gjHhYRDkHN9Li6CkdwmwjyXziHPIUaHCjIniMDQKCGjs6sAASdhIPKcAEHDIqoAFB7UDBITQdcZkWu8E4S41BjiOK7TCCUVYkxNnY5SJwUAyJiTeU7kQdMkMQGIPOhYVOS5trUHBmWniRgMBqNv7pXO0fIVMxgMxoHApJPBYDD6hkkng8Fg9A2TTgaDwegbJp0MBoPRN0w6GQwGo2+YdDIYDEbfMOlkMBiMvmHSyWAwGH3DpJPBYDD6hkkng8Fg9A2TTgaDwegbJp0MBoPRN0w6GQwGo2+YdDIYDEbfMOlkMBiMvmHSyWAwGH3DpJPBYDD6hkkng8Fg9A2TTgaDweib0alxyGAwGAcGm3UyGAxG3zDpZDAYjL5h0slgMBh9w6STwWAw+ub/A7tO9N0Ug/8eAAAAAElFTkSuQmCC)"
      ]
    },
    {
      "cell_type": "markdown",
      "metadata": {
        "id": "dQXewFFm_Ewc"
      },
      "source": [
        "Trong cả hai cụm từ \"a flight to shanghai from singapore\" và \"a flight from singapore to shanghai\", từ 'to' là cha của từ 'shanghai' và 'from' là cha của từ 'singapore'. Chúng ta có thể tham chiếu các token trong dữ liệu spacy với các chỉ số của chúng. Đầu tiên, chúng ta gán các token có chỉ số 3 và 5 cho tên 'shanghai' và 'singapore'."
      ]
    },
    {
      "cell_type": "code",
      "execution_count": null,
      "metadata": {
        "id": "1YBE4gFk-_s0"
      },
      "outputs": [],
      "source": [
        "doc = nlp('a flight to Shanghai from Singapore')\n",
        "shanghai, singapore = doc[3], doc[5]"
      ]
    },
    {
      "cell_type": "markdown",
      "metadata": {
        "id": "FAthtucg_Iqp"
      },
      "source": [
        "Sau đó, chúng ta có thể truy cập vào các thành phần cha của mỗi token thông qua thuộc tính ancestors, thuộc tính này trả về một đối tượng iterator cho các thành phần cha của token trong cây phân tích cú pháp."
      ]
    },
    {
      "cell_type": "code",
      "execution_count": null,
      "metadata": {
        "id": "QoqccjxJ_JYN"
      },
      "outputs": [],
      "source": [
        "print(list(shanghai.ancestors))"
      ]
    },
    {
      "cell_type": "code",
      "execution_count": null,
      "metadata": {
        "id": "PZuDfLBt_NjU"
      },
      "outputs": [],
      "source": [
        "list(singapore.ancestors)"
      ]
    },
    {
      "cell_type": "markdown",
      "metadata": {
        "id": "YNdT6kDb_P6g"
      },
      "source": [
        "**Ví dụ về mua hàng**\n",
        "\n",
        "Tương tự như vậy trong một ví dụ về mua sắm, chúng ta có thể nhận được một tin nhắn \"let's see that jacket in red and some blue jeans\".\n"
      ]
    },
    {
      "cell_type": "code",
      "execution_count": null,
      "metadata": {
        "id": "DPD2wPkj_UT5"
      },
      "outputs": [],
      "source": [
        "doc = nlp(\"let's see that jacket in red and some blue jeans\")"
      ]
    },
    {
      "cell_type": "markdown",
      "metadata": {
        "id": "qwke6PmM_ZFH"
      },
      "source": [
        "Điều quan trọng không chỉ là trích xuất màu sắc mà còn phải biết chúng thuộc về những món đồ nào. Chúng ta có thể gán các màu này như sau."
      ]
    },
    {
      "cell_type": "code",
      "execution_count": null,
      "metadata": {
        "id": "d5nvsW1E_YoF"
      },
      "outputs": [],
      "source": [
        "items = [doc[4], doc[10]]\n",
        "colors =[doc[6], doc[9]]\n",
        "items\n",
        "colors"
      ]
    },
    {
      "cell_type": "markdown",
      "metadata": {
        "id": "MT-GHC0M_da8"
      },
      "source": [
        "Đối với mỗi màu mà chúng ta duyệt qua các thành phần cha, chúng ta kiểm tra xem có gặp một phần tử hay không bằng câu lệnh if token in items. Phần tử cha đầu tiên là phần tử chứa màu sắc đó."
      ]
    },
    {
      "cell_type": "code",
      "execution_count": null,
      "metadata": {
        "id": "ul-RrqOi_eVG"
      },
      "outputs": [],
      "source": [
        "for color in colors:\n",
        "   for tok in color.ancestors:\n",
        "      if tok in items:\n",
        "         print (\"color {} belongs to item {}\".format(color, tok))\n",
        "         break"
      ]
    },
    {
      "cell_type": "markdown",
      "metadata": {
        "id": "LAl7pF9BAdzS"
      },
      "source": [
        "####Sử dụng trình nhận dạng thực thể của spaCy"
      ]
    },
    {
      "cell_type": "code",
      "execution_count": null,
      "metadata": {
        "id": "zK4MSoJHAhSP"
      },
      "outputs": [],
      "source": [
        "include_entities = ['DATE', 'ORG', 'PERSON']\n",
        "\n",
        "# Định nghĩa hàm extract_entities()\n",
        "def extract_entities(message):\n",
        "    # Tạo một từ điển để lưu trữ entities\n",
        "    ents = dict.fromkeys(include_entities)\n",
        "    # Tạo một tài liệu spacy\n",
        "    doc = nlp(message)\n",
        "    for ent in doc.ents:\n",
        "        if ent.label_ in include_entities:\n",
        "            # Lưu các thực thể thoả mãn yêu cầu\n",
        "            ents[ent.label_] = ent.text\n",
        "    return ents\n",
        "\n",
        "print(extract_entities('friends called Mary who have worked at Google since 2010'))\n",
        "print(extract_entities('people who graduated from MIT in 1999'))"
      ]
    },
    {
      "cell_type": "markdown",
      "metadata": {
        "id": "_NU095QRB8X8"
      },
      "source": [
        "####Nhận định vai trò của từ bằng cách sử dụng phân tích cú pháp của spaCy"
      ]
    },
    {
      "cell_type": "code",
      "execution_count": null,
      "metadata": {
        "id": "6ULDEDZyB_Cu"
      },
      "outputs": [],
      "source": [
        "from importlib_metadata import entry_points\n",
        "\n",
        "# Tạo tài liệu spacy\n",
        "doc = nlp(\"let's see that jacket in red and some blue jeans\")\n",
        "\n",
        "# Lặp các từ trong cây phân tích cú pháp cho đến khi thực thể của từ thoả mãn điều kiện\n",
        "def find_parent_item(word):\n",
        "    # Iterate over the word's ancestors\n",
        "    for parent in word.ancestors:\n",
        "        # Check for an \"item\" entity\n",
        "        if entry_points(parent) == \"item\":\n",
        "            return parent.text\n",
        "    return None\n",
        "    \n",
        "# Đối với tất cả các thực thể \"color\", hãy tìm từ gốc của các thực thể này\n",
        "def assign_colors(doc):\n",
        "    # Lặp trên doc\n",
        "    for word in doc:\n",
        "        # Kiểm tra có là loại thực thể \"color\" không\n",
        "        # if entry_points(word) == \"color\":\n",
        "            # Tìm từ gốc\n",
        "            item = find_parent_item(word)\n",
        "            print(\"item: {0} has color : {0}\".format(item, word))\n",
        "\n",
        "# Assign màu sắc\n",
        "assign_colors(doc)"
      ]
    },
    {
      "cell_type": "markdown",
      "source": [
        "###Hiểu rõ ngôn ngữ với NLU\n"
      ],
      "metadata": {
        "id": "OHSbJPxHlqiN"
      }
    },
    {
      "cell_type": "markdown",
      "source": [
        "Chúng ta sẽ sử dụng một thư viện có tên là Rasa NLU, hay hiểu biết về ngôn ngữ tự nhiên."
      ],
      "metadata": {
        "id": "jWLSfWKClxam"
      }
    },
    {
      "cell_type": "markdown",
      "source": [
        "Rasa NLU cung cấp một API mức cao để nhận dạng chủ ý và trích xuất thực thể, đồng thời có một số thành phần hữu ích đã được tích hợp sẵn để xây dựng chatbot."
      ],
      "metadata": {
        "id": "Rpg6te34l1B_"
      }
    },
    {
      "cell_type": "markdown",
      "source": [
        "####**Định dạng dữ liệu Rasa**\n",
        "\n",
        "Để sử dụng rasa, chúng ta sẽ cung cấp dữ liệu đào tạo trong một tệp JSON. JSON là một định dạng dữ liệu phổ biến mà con người có thể đọc được dựa trên các cặp key và value. Chúng ta nhập hàm load_data và thực hiện gọi hàm này, truyền đường dẫn đến tệp dữ liệu đào tạo làm đối số để tạo đối tượng dữ liệu đào tạo."
      ],
      "metadata": {
        "id": "DJCkmS4Sl5Bc"
      }
    },
    {
      "cell_type": "code",
      "execution_count": null,
      "metadata": {
        "id": "hb50bEDGFfrm"
      },
      "outputs": [],
      "source": [
        "from rasa.shared.nlu.training_data.loading import load_data\n",
        "training_data = load_data(\"./training_data.json\")\n",
        "# import json\n",
        "# print(json.dumps(data.training_examples[22], indent=2))"
      ]
    },
    {
      "cell_type": "markdown",
      "source": [
        "#III. Building a virtual assistant\n"
      ],
      "metadata": {
        "id": "i4Sxe8rF_y8F"
      }
    },
    {
      "cell_type": "markdown",
      "source": [
        "\n",
        "##Trợ lý ảo và truy cập dữ liệu"
      ],
      "metadata": {
        "id": "E_5DcrqdEC4Z"
      }
    },
    {
      "cell_type": "markdown",
      "source": [
        "Trong bài học này, chúng ta sẽ tìm hiểu về việc xây dựng các chatbot hoạt động với vai trò là một trợ lý ảo. Các trường hợp sử dụng chatbot phổ biến bao gồm lên lịch cho cuộc họp, đặt chuyến bay và tìm kiếm nhà hàng. Tất cả các nhiệm vụ này đều yêu cầu thông tin về thế giới bên ngoài và để truy cập nó, chúng ta cần tương tác với cơ sở dữ liệu, API hoặc kết hợp cả hai. Trong các bài tập tiếp theo, chúng ta sẽ viết code cho chatbot có thể tương tác với cơ sở dữ liệu SQL, nhưng các bài học cũng có thể áp dụng cho các REST API và các loại cơ sở dữ liệu khác."
      ],
      "metadata": {
        "id": "mezdxy3G_6a6"
      }
    },
    {
      "cell_type": "markdown",
      "source": [
        "####**SQL cơ bản**"
      ],
      "metadata": {
        "id": "1E3DifWz_8YY"
      }
    },
    {
      "cell_type": "markdown",
      "source": [
        "Để truy xuất các nhà hàng từ bảng (và từng thuộc tính của chúng), chúng ta sẽ thực hiện truy vấn SELECT * FROM restaurant;."
      ],
      "metadata": {
        "id": "IS62ZE7nADXQ"
      }
    },
    {
      "cell_type": "markdown",
      "source": [
        "\n",
        "\n",
        "```\n",
        "SELECT * FROM restaurants;\n",
        "```\n",
        "\n"
      ],
      "metadata": {
        "id": "5y8aygAzAJub"
      }
    },
    {
      "cell_type": "markdown",
      "source": [
        "Nếu chúng ta chỉ muốn lấy tên và xếp hạng, câu truy vấn sẽ là SELECT name, rating FROM restaurants;."
      ],
      "metadata": {
        "id": "DCIPzft6AGK3"
      }
    },
    {
      "cell_type": "markdown",
      "source": [
        "\n",
        "\n",
        "```\n",
        "SELECT name, rating from restaurants;\n",
        "```\n",
        "\n"
      ],
      "metadata": {
        "id": "Ao4iaG0tARr9"
      }
    },
    {
      "cell_type": "markdown",
      "source": [
        "Trong đó 'name' và 'rating' tương ứng với tên của các cột trong bảng. Ngoài ra, nếu chúng ta muốn tìm kiếm một nhà hàng đắt hơn nằm ở trung tâm thành phố, chúng ta sẽ thực hiện câu truy vấn như sau:"
      ],
      "metadata": {
        "id": "q8wkUsNNAU3m"
      }
    },
    {
      "cell_type": "markdown",
      "source": [
        "\n",
        "\n",
        "```\n",
        "SELECT name from restaurants\n",
        "WHERE area = 'center' AND price = 'high';\n",
        "```\n",
        "\n"
      ],
      "metadata": {
        "id": "jXvSu12OAVwW"
      }
    },
    {
      "cell_type": "markdown",
      "source": [
        "####SQLite với Python"
      ],
      "metadata": {
        "id": "OnNLLK7zAaQM"
      }
    },
    {
      "cell_type": "code",
      "source": [
        "import sqlite3"
      ],
      "metadata": {
        "id": "q0U3cEwqAPUX"
      },
      "execution_count": null,
      "outputs": []
    },
    {
      "cell_type": "code",
      "source": [
        "connection = sqlite3.connect('hotel_data.db')"
      ],
      "metadata": {
        "id": "zt483VfeAhtL"
      },
      "execution_count": null,
      "outputs": []
    },
    {
      "cell_type": "code",
      "source": [
        "c = connection.cursor()"
      ],
      "metadata": {
        "id": "6aU1V7uEAk4N"
      },
      "execution_count": null,
      "outputs": []
    },
    {
      "cell_type": "markdown",
      "source": [
        "Chúng ta có thể thực hiện các câu truy vấn bằng cách truyền vào một chuỗi ký tự cho phương thức `execute()`."
      ],
      "metadata": {
        "id": "FbMafYkKAndY"
      }
    },
    {
      "cell_type": "code",
      "source": [
        "# c.execute(\"SELECT * FROM hotels WHERE area = 'south' and price = 'high'\")\n",
        "c.execute(\"SELECT *FROM hotel\")"
      ],
      "metadata": {
        "id": "ymo2o6mNAm4J"
      },
      "execution_count": null,
      "outputs": []
    },
    {
      "cell_type": "code",
      "source": [
        "c.fetchall()"
      ],
      "metadata": {
        "id": "WLMpJJdZC-A4"
      },
      "execution_count": null,
      "outputs": []
    },
    {
      "cell_type": "markdown",
      "source": [
        "####**SQL Injection**\n",
        "\n",
        "\n"
      ],
      "metadata": {
        "id": "uPl68hOTDDtg"
      }
    },
    {
      "cell_type": "markdown",
      "source": [
        "```\n",
        "#Không nên làm\n",
        "query = \"SELECT name from restaurant where area= '{}'\".format(area)\n",
        "c.execute(query)\n",
        "```\n",
        "\n",
        "\n",
        "\n",
        "```\n",
        "#Nên làm\n",
        "t=(area,price)\n",
        "c.execute('SELECT * FROM hotels WHERE area=? and price=?', t)\n",
        "```\n"
      ],
      "metadata": {
        "id": "e9ue64eqDZjy"
      }
    }
  ],
  "metadata": {
    "colab": {
      "collapsed_sections": [
        "FAL8r8NVybYx",
        "opk0MvqqzT6D",
        "ugX40BOZQxwB",
        "lwzr6PrERE8f",
        "Ayo3wYm7U0KT",
        "U00W5q-RyrCZ",
        "i4Sxe8rF_y8F"
      ],
      "provenance": [],
      "include_colab_link": true
    },
    "kernelspec": {
      "display_name": "Python 3",
      "name": "python3"
    },
    "language_info": {
      "name": "python"
    }
  },
  "nbformat": 4,
  "nbformat_minor": 0
}